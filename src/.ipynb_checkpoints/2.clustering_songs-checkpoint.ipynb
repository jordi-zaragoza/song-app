{
 "cells": [
  {
   "cell_type": "code",
   "execution_count": 1,
   "id": "provincial-boundary",
   "metadata": {},
   "outputs": [],
   "source": [
    "import pandas as pd\n",
    "import numpy as np\n",
    "import pickle\n",
    "import cluster_jzar\n",
    "from sklearn import datasets # sklearn comes with some toy datasets to practise\n",
    "from sklearn.preprocessing import StandardScaler\n",
    "from sklearn.metrics import silhouette_score\n",
    "from sklearn.mixture import GaussianMixture\n",
    "from sklearn.cluster import AgglomerativeClustering\n",
    "from sklearn.cluster import KMeans\n",
    "from scipy.cluster.hierarchy import dendrogram\n",
    "import matplotlib.pyplot as plt\n",
    "import seaborn as sns\n",
    "from sklearn.decomposition import PCA\n",
    "from sklearn import tree\n",
    "%matplotlib inline"
   ]
  },
  {
   "cell_type": "markdown",
   "id": "literary-yield",
   "metadata": {},
   "source": [
    "# Clustering songs"
   ]
  },
  {
   "cell_type": "code",
   "execution_count": 2,
   "id": "mature-despite",
   "metadata": {},
   "outputs": [],
   "source": [
    "nothot = pd.read_csv('../data/nothot_features_total.csv', index_col=0)\n",
    "hot100 = pd.read_csv('../data/hot100_features.csv', index_col=0)"
   ]
  },
  {
   "cell_type": "markdown",
   "id": "returning-stack",
   "metadata": {},
   "source": [
    "## 1. Prepare the dataframes"
   ]
  },
  {
   "cell_type": "code",
   "execution_count": 3,
   "id": "surrounded-answer",
   "metadata": {},
   "outputs": [
    {
     "data": {
      "text/plain": [
       "Index(['song_name', 'album_name', 'artist_name', 'duration_ms', 'uri', 'href',\n",
       "       'danceability', 'energy', 'key', 'loudness', 'mode', 'speechiness',\n",
       "       'acousticness', 'instrumentalness', 'liveness', 'valence', 'tempo',\n",
       "       'type', 'id', 'uri.1', 'track_href', 'analysis_url', 'duration_ms.1',\n",
       "       'time_signature'],\n",
       "      dtype='object')"
      ]
     },
     "execution_count": 3,
     "metadata": {},
     "output_type": "execute_result"
    }
   ],
   "source": [
    "hot100.columns"
   ]
  },
  {
   "cell_type": "code",
   "execution_count": 4,
   "id": "productive-photograph",
   "metadata": {},
   "outputs": [],
   "source": [
    "nothot = nothot.drop(['0'],axis=1)\n",
    "nothot = nothot.dropna()"
   ]
  },
  {
   "cell_type": "code",
   "execution_count": 5,
   "id": "domestic-shareware",
   "metadata": {},
   "outputs": [],
   "source": [
    "hot100_2 = hot100.copy()\n",
    "hot100_2 = hot100_2[['uri','duration_ms','danceability', 'energy',\n",
    "           'loudness', 'mode', 'speechiness',\n",
    "           'acousticness', 'instrumentalness', 'liveness',\n",
    "           'valence', 'tempo', 'time_signature']]"
   ]
  },
  {
   "cell_type": "code",
   "execution_count": 6,
   "id": "magnetic-people",
   "metadata": {},
   "outputs": [],
   "source": [
    "nothot_2 = nothot.copy()\n",
    "nothot_2 = nothot_2[['uri','duration_ms','danceability', 'energy',\n",
    "           'loudness', 'mode', 'speechiness',\n",
    "           'acousticness', 'instrumentalness', 'liveness',\n",
    "           'valence', 'tempo', 'time_signature']]"
   ]
  },
  {
   "cell_type": "code",
   "execution_count": 7,
   "id": "pretty-agency",
   "metadata": {},
   "outputs": [
    {
     "data": {
      "text/plain": [
       "(12883, 13)"
      ]
     },
     "execution_count": 7,
     "metadata": {},
     "output_type": "execute_result"
    }
   ],
   "source": [
    "nothot_2.shape"
   ]
  },
  {
   "cell_type": "code",
   "execution_count": 8,
   "id": "exterior-promise",
   "metadata": {},
   "outputs": [
    {
     "name": "stdout",
     "output_type": "stream",
     "text": [
      "(100, 13)\n"
     ]
    },
    {
     "data": {
      "text/html": [
       "<div>\n",
       "<style scoped>\n",
       "    .dataframe tbody tr th:only-of-type {\n",
       "        vertical-align: middle;\n",
       "    }\n",
       "\n",
       "    .dataframe tbody tr th {\n",
       "        vertical-align: top;\n",
       "    }\n",
       "\n",
       "    .dataframe thead th {\n",
       "        text-align: right;\n",
       "    }\n",
       "</style>\n",
       "<table border=\"1\" class=\"dataframe\">\n",
       "  <thead>\n",
       "    <tr style=\"text-align: right;\">\n",
       "      <th></th>\n",
       "      <th>uri</th>\n",
       "      <th>duration_ms</th>\n",
       "      <th>danceability</th>\n",
       "      <th>energy</th>\n",
       "      <th>loudness</th>\n",
       "      <th>mode</th>\n",
       "      <th>speechiness</th>\n",
       "      <th>acousticness</th>\n",
       "      <th>instrumentalness</th>\n",
       "      <th>liveness</th>\n",
       "      <th>valence</th>\n",
       "      <th>tempo</th>\n",
       "      <th>time_signature</th>\n",
       "    </tr>\n",
       "  </thead>\n",
       "  <tbody>\n",
       "    <tr>\n",
       "      <th>0</th>\n",
       "      <td>spotify:track:5wdzXMLwhcYD8YVZibN4ih</td>\n",
       "      <td>238805</td>\n",
       "      <td>0.761</td>\n",
       "      <td>0.525</td>\n",
       "      <td>-6.900</td>\n",
       "      <td>1</td>\n",
       "      <td>0.0944</td>\n",
       "      <td>0.44000</td>\n",
       "      <td>0.000007</td>\n",
       "      <td>0.0921</td>\n",
       "      <td>0.531</td>\n",
       "      <td>80.870</td>\n",
       "      <td>4</td>\n",
       "    </tr>\n",
       "    <tr>\n",
       "      <th>1</th>\n",
       "      <td>spotify:track:0dAb8TY433dl3ZfXYCLE19</td>\n",
       "      <td>193293</td>\n",
       "      <td>0.602</td>\n",
       "      <td>0.736</td>\n",
       "      <td>-5.778</td>\n",
       "      <td>1</td>\n",
       "      <td>0.0338</td>\n",
       "      <td>0.00196</td>\n",
       "      <td>0.000046</td>\n",
       "      <td>0.1050</td>\n",
       "      <td>0.471</td>\n",
       "      <td>96.969</td>\n",
       "      <td>4</td>\n",
       "    </tr>\n",
       "    <tr>\n",
       "      <th>2</th>\n",
       "      <td>spotify:track:6ZHkPseDytPv1xu3MhtR2m</td>\n",
       "      <td>200547</td>\n",
       "      <td>0.825</td>\n",
       "      <td>0.414</td>\n",
       "      <td>-6.634</td>\n",
       "      <td>1</td>\n",
       "      <td>0.1440</td>\n",
       "      <td>0.00265</td>\n",
       "      <td>0.000000</td>\n",
       "      <td>0.3570</td>\n",
       "      <td>0.106</td>\n",
       "      <td>72.993</td>\n",
       "      <td>4</td>\n",
       "    </tr>\n",
       "  </tbody>\n",
       "</table>\n",
       "</div>"
      ],
      "text/plain": [
       "                                    uri  duration_ms  danceability  energy  \\\n",
       "0  spotify:track:5wdzXMLwhcYD8YVZibN4ih       238805         0.761   0.525   \n",
       "1  spotify:track:0dAb8TY433dl3ZfXYCLE19       193293         0.602   0.736   \n",
       "2  spotify:track:6ZHkPseDytPv1xu3MhtR2m       200547         0.825   0.414   \n",
       "\n",
       "   loudness  mode  speechiness  acousticness  instrumentalness  liveness  \\\n",
       "0    -6.900     1       0.0944       0.44000          0.000007    0.0921   \n",
       "1    -5.778     1       0.0338       0.00196          0.000046    0.1050   \n",
       "2    -6.634     1       0.1440       0.00265          0.000000    0.3570   \n",
       "\n",
       "   valence   tempo  time_signature  \n",
       "0    0.531  80.870               4  \n",
       "1    0.471  96.969               4  \n",
       "2    0.106  72.993               4  "
      ]
     },
     "execution_count": 8,
     "metadata": {},
     "output_type": "execute_result"
    }
   ],
   "source": [
    "print(hot100_2.shape)\n",
    "hot100_2.head(3)"
   ]
  },
  {
   "cell_type": "code",
   "execution_count": 9,
   "id": "artistic-february",
   "metadata": {},
   "outputs": [
    {
     "name": "stdout",
     "output_type": "stream",
     "text": [
      "(12883, 13)\n"
     ]
    },
    {
     "data": {
      "text/html": [
       "<div>\n",
       "<style scoped>\n",
       "    .dataframe tbody tr th:only-of-type {\n",
       "        vertical-align: middle;\n",
       "    }\n",
       "\n",
       "    .dataframe tbody tr th {\n",
       "        vertical-align: top;\n",
       "    }\n",
       "\n",
       "    .dataframe thead th {\n",
       "        text-align: right;\n",
       "    }\n",
       "</style>\n",
       "<table border=\"1\" class=\"dataframe\">\n",
       "  <thead>\n",
       "    <tr style=\"text-align: right;\">\n",
       "      <th></th>\n",
       "      <th>uri</th>\n",
       "      <th>duration_ms</th>\n",
       "      <th>danceability</th>\n",
       "      <th>energy</th>\n",
       "      <th>loudness</th>\n",
       "      <th>mode</th>\n",
       "      <th>speechiness</th>\n",
       "      <th>acousticness</th>\n",
       "      <th>instrumentalness</th>\n",
       "      <th>liveness</th>\n",
       "      <th>valence</th>\n",
       "      <th>tempo</th>\n",
       "      <th>time_signature</th>\n",
       "    </tr>\n",
       "  </thead>\n",
       "  <tbody>\n",
       "    <tr>\n",
       "      <th>0</th>\n",
       "      <td>spotify:track:7lmeHLHBe4nmXzuXc0HDjk</td>\n",
       "      <td>210133</td>\n",
       "      <td>0.470</td>\n",
       "      <td>0.978</td>\n",
       "      <td>-5.399</td>\n",
       "      <td>1.0</td>\n",
       "      <td>0.0727</td>\n",
       "      <td>0.0261</td>\n",
       "      <td>0.000011</td>\n",
       "      <td>0.356</td>\n",
       "      <td>0.503</td>\n",
       "      <td>117.906</td>\n",
       "      <td>4.0</td>\n",
       "    </tr>\n",
       "    <tr>\n",
       "      <th>1</th>\n",
       "      <td>spotify:track:44u7NcQyoLLd69KL1uK4B9</td>\n",
       "      <td>205320</td>\n",
       "      <td>0.346</td>\n",
       "      <td>0.916</td>\n",
       "      <td>-8.937</td>\n",
       "      <td>1.0</td>\n",
       "      <td>0.2660</td>\n",
       "      <td>0.3110</td>\n",
       "      <td>0.000172</td>\n",
       "      <td>0.880</td>\n",
       "      <td>0.229</td>\n",
       "      <td>104.868</td>\n",
       "      <td>4.0</td>\n",
       "    </tr>\n",
       "    <tr>\n",
       "      <th>2</th>\n",
       "      <td>spotify:track:0VnpSZutFXt3MP4R2shCTl</td>\n",
       "      <td>298706</td>\n",
       "      <td>0.321</td>\n",
       "      <td>0.967</td>\n",
       "      <td>-5.436</td>\n",
       "      <td>1.0</td>\n",
       "      <td>0.4260</td>\n",
       "      <td>0.0115</td>\n",
       "      <td>0.000002</td>\n",
       "      <td>0.113</td>\n",
       "      <td>0.358</td>\n",
       "      <td>149.528</td>\n",
       "      <td>4.0</td>\n",
       "    </tr>\n",
       "  </tbody>\n",
       "</table>\n",
       "</div>"
      ],
      "text/plain": [
       "                                    uri  duration_ms  danceability  energy  \\\n",
       "0  spotify:track:7lmeHLHBe4nmXzuXc0HDjk       210133         0.470   0.978   \n",
       "1  spotify:track:44u7NcQyoLLd69KL1uK4B9       205320         0.346   0.916   \n",
       "2  spotify:track:0VnpSZutFXt3MP4R2shCTl       298706         0.321   0.967   \n",
       "\n",
       "   loudness  mode  speechiness  acousticness  instrumentalness  liveness  \\\n",
       "0    -5.399   1.0       0.0727        0.0261          0.000011     0.356   \n",
       "1    -8.937   1.0       0.2660        0.3110          0.000172     0.880   \n",
       "2    -5.436   1.0       0.4260        0.0115          0.000002     0.113   \n",
       "\n",
       "   valence    tempo  time_signature  \n",
       "0    0.503  117.906             4.0  \n",
       "1    0.229  104.868             4.0  \n",
       "2    0.358  149.528             4.0  "
      ]
     },
     "execution_count": 9,
     "metadata": {},
     "output_type": "execute_result"
    }
   ],
   "source": [
    "print(nothot_2.shape)\n",
    "nothot_2.head(3)"
   ]
  },
  {
   "cell_type": "code",
   "execution_count": 10,
   "id": "growing-doctrine",
   "metadata": {
    "scrolled": true
   },
   "outputs": [
    {
     "data": {
      "text/plain": [
       "<AxesSubplot:>"
      ]
     },
     "execution_count": 10,
     "metadata": {},
     "output_type": "execute_result"
    },
    {
     "data": {
      "image/png": "[encoded data removed]",
      "text/plain": [
       "<Figure size 432x288 with 2 Axes>"
      ]
     },
     "metadata": {
      "needs_background": "light"
     },
     "output_type": "display_data"
    }
   ],
   "source": [
    "sns.heatmap(nothot_2.corr())"
   ]
  },
  {
   "cell_type": "code",
   "execution_count": 11,
   "id": "protective-royalty",
   "metadata": {},
   "outputs": [],
   "source": [
    "tot_songs = pd.concat([hot100_2 , nothot_2])"
   ]
  },
  {
   "cell_type": "markdown",
   "id": "approximate-collapse",
   "metadata": {},
   "source": [
    "## 2. Scaling features"
   ]
  },
  {
   "cell_type": "code",
   "execution_count": 12,
   "id": "isolated-pattern",
   "metadata": {},
   "outputs": [],
   "source": [
    "X = tot_songs.drop('uri',axis = 1)"
   ]
  },
  {
   "cell_type": "code",
   "execution_count": 13,
   "id": "confused-pencil",
   "metadata": {
    "scrolled": false
   },
   "outputs": [
    {
     "name": "stdout",
     "output_type": "stream",
     "text": [
      "(12983, 12)\n"
     ]
    },
    {
     "data": {
      "text/html": [
       "<div>\n",
       "<style scoped>\n",
       "    .dataframe tbody tr th:only-of-type {\n",
       "        vertical-align: middle;\n",
       "    }\n",
       "\n",
       "    .dataframe tbody tr th {\n",
       "        vertical-align: top;\n",
       "    }\n",
       "\n",
       "    .dataframe thead th {\n",
       "        text-align: right;\n",
       "    }\n",
       "</style>\n",
       "<table border=\"1\" class=\"dataframe\">\n",
       "  <thead>\n",
       "    <tr style=\"text-align: right;\">\n",
       "      <th></th>\n",
       "      <th>duration_ms</th>\n",
       "      <th>danceability</th>\n",
       "      <th>energy</th>\n",
       "      <th>loudness</th>\n",
       "      <th>mode</th>\n",
       "      <th>speechiness</th>\n",
       "      <th>acousticness</th>\n",
       "      <th>instrumentalness</th>\n",
       "      <th>liveness</th>\n",
       "      <th>valence</th>\n",
       "      <th>tempo</th>\n",
       "      <th>time_signature</th>\n",
       "    </tr>\n",
       "  </thead>\n",
       "  <tbody>\n",
       "    <tr>\n",
       "      <th>0</th>\n",
       "      <td>-0.094294</td>\n",
       "      <td>1.424901</td>\n",
       "      <td>-0.092890</td>\n",
       "      <td>0.706078</td>\n",
       "      <td>0.674298</td>\n",
       "      <td>0.043914</td>\n",
       "      <td>0.132699</td>\n",
       "      <td>-0.742641</td>\n",
       "      <td>-0.643804</td>\n",
       "      <td>0.312428</td>\n",
       "      <td>-1.229824</td>\n",
       "      <td>0.277413</td>\n",
       "    </tr>\n",
       "    <tr>\n",
       "      <th>1</th>\n",
       "      <td>-0.373238</td>\n",
       "      <td>0.568944</td>\n",
       "      <td>0.628252</td>\n",
       "      <td>0.880707</td>\n",
       "      <td>0.674298</td>\n",
       "      <td>-0.436379</td>\n",
       "      <td>-1.030632</td>\n",
       "      <td>-0.742537</td>\n",
       "      <td>-0.586201</td>\n",
       "      <td>0.090059</td>\n",
       "      <td>-0.703186</td>\n",
       "      <td>0.277413</td>\n",
       "    </tr>\n",
       "    <tr>\n",
       "      <th>2</th>\n",
       "      <td>-0.328778</td>\n",
       "      <td>1.769438</td>\n",
       "      <td>-0.472259</td>\n",
       "      <td>0.747479</td>\n",
       "      <td>0.674298</td>\n",
       "      <td>0.437025</td>\n",
       "      <td>-1.028800</td>\n",
       "      <td>-0.742659</td>\n",
       "      <td>0.539066</td>\n",
       "      <td>-1.262689</td>\n",
       "      <td>-1.487501</td>\n",
       "      <td>0.277413</td>\n",
       "    </tr>\n",
       "  </tbody>\n",
       "</table>\n",
       "</div>"
      ],
      "text/plain": [
       "   duration_ms  danceability    energy  loudness      mode  speechiness  \\\n",
       "0    -0.094294      1.424901 -0.092890  0.706078  0.674298     0.043914   \n",
       "1    -0.373238      0.568944  0.628252  0.880707  0.674298    -0.436379   \n",
       "2    -0.328778      1.769438 -0.472259  0.747479  0.674298     0.437025   \n",
       "\n",
       "   acousticness  instrumentalness  liveness   valence     tempo  \\\n",
       "0      0.132699         -0.742641 -0.643804  0.312428 -1.229824   \n",
       "1     -1.030632         -0.742537 -0.586201  0.090059 -0.703186   \n",
       "2     -1.028800         -0.742659  0.539066 -1.262689 -1.487501   \n",
       "\n",
       "   time_signature  \n",
       "0        0.277413  \n",
       "1        0.277413  \n",
       "2        0.277413  "
      ]
     },
     "metadata": {},
     "output_type": "display_data"
    }
   ],
   "source": [
    "scaler = StandardScaler()\n",
    "scaler.fit(X)\n",
    "X_scaled = scaler.transform(X)\n",
    "filename = \"../transformer/scaler.pickle\" # Path with filename\n",
    "with open(filename, \"wb\") as file:\n",
    "        pickle.dump(scaler,file)\n",
    "X_scaled_df = pd.DataFrame(X_scaled, columns = X.columns)\n",
    "print(X_scaled_df.shape)\n",
    "display(X_scaled_df.head(3))"
   ]
  },
  {
   "cell_type": "markdown",
   "id": "fourth-married",
   "metadata": {},
   "source": [
    "## 3. Clustering model - K-Means"
   ]
  },
  {
   "cell_type": "markdown",
   "id": "binding-survey",
   "metadata": {},
   "source": [
    "### Chosing K"
   ]
  },
  {
   "cell_type": "code",
   "execution_count": 14,
   "id": "silent-bristol",
   "metadata": {
    "scrolled": true
   },
   "outputs": [
    {
     "name": "stdout",
     "output_type": "stream",
     "text": [
      "Training a K-Means model with 2 neighbours! \n",
      "\n",
      "Training a K-Means model with 3 neighbours! \n",
      "\n",
      "Training a K-Means model with 4 neighbours! \n",
      "\n",
      "Training a K-Means model with 5 neighbours! \n",
      "\n",
      "Training a K-Means model with 6 neighbours! \n",
      "\n",
      "Training a K-Means model with 7 neighbours! \n",
      "\n",
      "Training a K-Means model with 8 neighbours! \n",
      "\n",
      "Training a K-Means model with 9 neighbours! \n",
      "\n",
      "Training a K-Means model with 10 neighbours! \n",
      "\n",
      "Training a K-Means model with 11 neighbours! \n",
      "\n",
      "Training a K-Means model with 12 neighbours! \n",
      "\n",
      "Training a K-Means model with 13 neighbours! \n",
      "\n",
      "Training a K-Means model with 14 neighbours! \n",
      "\n",
      "Training a K-Means model with 15 neighbours! \n",
      "\n",
      "Training a K-Means model with 16 neighbours! \n",
      "\n",
      "Training a K-Means model with 17 neighbours! \n",
      "\n",
      "Training a K-Means model with 18 neighbours! \n",
      "\n",
      "Training a K-Means model with 19 neighbours! \n",
      "\n",
      "Training a K-Means model with 20 neighbours! \n",
      "\n"
     ]
    }
   ],
   "source": [
    "K = range(2, 21)\n",
    "inertia = []\n",
    "silhouette = []\n",
    "\n",
    "for k in K:\n",
    "    print(\"Training a K-Means model with {} neighbours! \".format(k))\n",
    "    print()\n",
    "    kmeans = KMeans(n_clusters=k,\n",
    "                    random_state=1234)\n",
    "    kmeans.fit(X_scaled_df)\n",
    "    filename = \"../model/kmeans_\" + str(k) + \".pickle\" # Path with filename\n",
    "    with open(filename, \"wb\") as file:\n",
    "        pickle.dump(kmeans,file)\n",
    "    inertia.append(kmeans.inertia_)\n",
    "    silhouette.append(silhouette_score(X_scaled_df, kmeans.predict(X_scaled_df)))"
   ]
  },
  {
   "cell_type": "code",
   "execution_count": 15,
   "id": "advanced-wildlife",
   "metadata": {},
   "outputs": [
    {
     "data": {
      "text/plain": [
       "Text(0.5, 1.0, 'Silhouette Method showing the optimal k')"
      ]
     },
     "execution_count": 15,
     "metadata": {},
     "output_type": "execute_result"
    },
    {
     "data": {
      "image/png": "[encoded data removed]",
      "text/plain": [
       "<Figure size 1152x576 with 2 Axes>"
      ]
     },
     "metadata": {
      "needs_background": "light"
     },
     "output_type": "display_data"
    }
   ],
   "source": [
    "fig, ax = plt.subplots(1,2,figsize=(16,8))\n",
    "ax[0].plot(K, inertia, 'bx-')\n",
    "ax[0].set_xlabel('k')\n",
    "ax[0].set_ylabel('inertia')\n",
    "ax[0].set_xticks(np.arange(min(K), max(K)+1, 1.0))\n",
    "ax[0].set_title('Elbow Method showing the optimal k')\n",
    "ax[1].plot(K, silhouette, 'bx-')\n",
    "ax[1].set_xlabel('k')\n",
    "ax[1].set_ylabel('silhouette score')\n",
    "ax[1].set_xticks(np.arange(min(K), max(K)+1, 1.0))\n",
    "ax[1].set_title('Silhouette Method showing the optimal k')"
   ]
  },
  {
   "cell_type": "markdown",
   "id": "exempt-sewing",
   "metadata": {},
   "source": [
    "We see a relatively good score for 5 and 10 on the Silohuette, on the Elbow I think 10 is the most accurate."
   ]
  },
  {
   "cell_type": "code",
   "execution_count": 16,
   "id": "acknowledged-broad",
   "metadata": {},
   "outputs": [],
   "source": [
    "# Retrieve the model we want\n",
    "k = 10\n",
    "filename = \"../model/kmeans_\" + str(k) + \".pickle\" # Path with filename\n",
    "kmeans = cluster_jzar.load_pickle(filename)"
   ]
  },
  {
   "cell_type": "code",
   "execution_count": 17,
   "id": "naval-motel",
   "metadata": {},
   "outputs": [
    {
     "data": {
      "text/plain": [
       "0    1836\n",
       "1    2844\n",
       "2     188\n",
       "3    2003\n",
       "4    1125\n",
       "5    1614\n",
       "6       9\n",
       "7     983\n",
       "8     323\n",
       "9    2058\n",
       "dtype: int64"
      ]
     },
     "execution_count": 17,
     "metadata": {},
     "output_type": "execute_result"
    }
   ],
   "source": [
    "clusters = kmeans.predict(X_scaled_df)\n",
    "#clusters\n",
    "pd.Series(clusters).value_counts().sort_index() # Number of songs in each cluster"
   ]
  },
  {
   "cell_type": "code",
   "execution_count": 18,
   "id": "temporal-conclusion",
   "metadata": {},
   "outputs": [],
   "source": [
    "X_cluster = X_scaled_df.copy()\n",
    "X_cluster[\"cluster\"] = clusters"
   ]
  },
  {
   "cell_type": "code",
   "execution_count": 19,
   "id": "cubic-exception",
   "metadata": {},
   "outputs": [
    {
     "data": {
      "text/plain": [
       "(12983, 13)"
      ]
     },
     "execution_count": 19,
     "metadata": {},
     "output_type": "execute_result"
    }
   ],
   "source": [
    "X_cluster.shape"
   ]
  },
  {
   "cell_type": "code",
   "execution_count": 20,
   "id": "tight-authentication",
   "metadata": {},
   "outputs": [
    {
     "data": {
      "text/plain": [
       "(12883,)"
      ]
     },
     "execution_count": 20,
     "metadata": {},
     "output_type": "execute_result"
    }
   ],
   "source": [
    "clusters[100:].shape"
   ]
  },
  {
   "cell_type": "markdown",
   "id": "convenient-subcommittee",
   "metadata": {},
   "source": [
    "### Check the PCA"
   ]
  },
  {
   "cell_type": "code",
   "execution_count": 21,
   "id": "rotary-object",
   "metadata": {},
   "outputs": [],
   "source": [
    "pca = PCA(n_components=None)"
   ]
  },
  {
   "cell_type": "code",
   "execution_count": 22,
   "id": "veterinary-seminar",
   "metadata": {},
   "outputs": [],
   "source": [
    "principalComponents = pca.fit_transform(X_scaled_df)"
   ]
  },
  {
   "cell_type": "code",
   "execution_count": 23,
   "id": "electric-wallet",
   "metadata": {},
   "outputs": [],
   "source": [
    "principalDf = pd.DataFrame(data = principalComponents)"
   ]
  },
  {
   "cell_type": "code",
   "execution_count": 24,
   "id": "standard-words",
   "metadata": {},
   "outputs": [
    {
     "data": {
      "text/plain": [
       "array([0.27373121, 0.1172782 , 0.09993271, 0.08912018, 0.081252  ,\n",
       "       0.07661265, 0.07120341, 0.06204367, 0.05996993, 0.03297467,\n",
       "       0.02593623, 0.00994511])"
      ]
     },
     "execution_count": 24,
     "metadata": {},
     "output_type": "execute_result"
    }
   ],
   "source": [
    "pca.explained_variance_ratio_"
   ]
  },
  {
   "cell_type": "markdown",
   "id": "forty-undergraduate",
   "metadata": {},
   "source": [
    "with 3 or 2 components i should get > 80% to be able to see the clustering with a plot... this is not the case"
   ]
  },
  {
   "cell_type": "markdown",
   "id": "confirmed-distributor",
   "metadata": {},
   "source": [
    "### Assing each song to a cluster"
   ]
  },
  {
   "cell_type": "code",
   "execution_count": 25,
   "id": "essential-venice",
   "metadata": {},
   "outputs": [
    {
     "name": "stdout",
     "output_type": "stream",
     "text": [
      "(100, 25)\n"
     ]
    },
    {
     "data": {
      "text/html": [
       "<div>\n",
       "<style scoped>\n",
       "    .dataframe tbody tr th:only-of-type {\n",
       "        vertical-align: middle;\n",
       "    }\n",
       "\n",
       "    .dataframe tbody tr th {\n",
       "        vertical-align: top;\n",
       "    }\n",
       "\n",
       "    .dataframe thead th {\n",
       "        text-align: right;\n",
       "    }\n",
       "</style>\n",
       "<table border=\"1\" class=\"dataframe\">\n",
       "  <thead>\n",
       "    <tr style=\"text-align: right;\">\n",
       "      <th></th>\n",
       "      <th>song_name</th>\n",
       "      <th>album_name</th>\n",
       "      <th>artist_name</th>\n",
       "      <th>duration_ms</th>\n",
       "      <th>uri</th>\n",
       "      <th>href</th>\n",
       "      <th>danceability</th>\n",
       "      <th>energy</th>\n",
       "      <th>key</th>\n",
       "      <th>loudness</th>\n",
       "      <th>...</th>\n",
       "      <th>valence</th>\n",
       "      <th>tempo</th>\n",
       "      <th>type</th>\n",
       "      <th>id</th>\n",
       "      <th>uri.1</th>\n",
       "      <th>track_href</th>\n",
       "      <th>analysis_url</th>\n",
       "      <th>duration_ms.1</th>\n",
       "      <th>time_signature</th>\n",
       "      <th>cluster</th>\n",
       "    </tr>\n",
       "  </thead>\n",
       "  <tbody>\n",
       "    <tr>\n",
       "      <th>0</th>\n",
       "      <td>Heat Waves</td>\n",
       "      <td>Tunes of the Summer</td>\n",
       "      <td>Glass Animals</td>\n",
       "      <td>238805</td>\n",
       "      <td>spotify:track:5wdzXMLwhcYD8YVZibN4ih</td>\n",
       "      <td>https://api.spotify.com/v1/tracks/5wdzXMLwhcYD...</td>\n",
       "      <td>0.761</td>\n",
       "      <td>0.525</td>\n",
       "      <td>11</td>\n",
       "      <td>-6.900</td>\n",
       "      <td>...</td>\n",
       "      <td>0.531</td>\n",
       "      <td>80.870</td>\n",
       "      <td>audio_features</td>\n",
       "      <td>5wdzXMLwhcYD8YVZibN4ih</td>\n",
       "      <td>spotify:track:5wdzXMLwhcYD8YVZibN4ih</td>\n",
       "      <td>https://api.spotify.com/v1/tracks/5wdzXMLwhcYD...</td>\n",
       "      <td>https://api.spotify.com/v1/audio-analysis/5wdz...</td>\n",
       "      <td>238805</td>\n",
       "      <td>4</td>\n",
       "      <td>1</td>\n",
       "    </tr>\n",
       "    <tr>\n",
       "      <th>1</th>\n",
       "      <td>All You Had To Do Was Stay</td>\n",
       "      <td>1989</td>\n",
       "      <td>Taylor Swift</td>\n",
       "      <td>193293</td>\n",
       "      <td>spotify:track:0dAb8TY433dl3ZfXYCLE19</td>\n",
       "      <td>https://api.spotify.com/v1/tracks/0dAb8TY433dl...</td>\n",
       "      <td>0.602</td>\n",
       "      <td>0.736</td>\n",
       "      <td>5</td>\n",
       "      <td>-5.778</td>\n",
       "      <td>...</td>\n",
       "      <td>0.471</td>\n",
       "      <td>96.969</td>\n",
       "      <td>audio_features</td>\n",
       "      <td>0dAb8TY433dl3ZfXYCLE19</td>\n",
       "      <td>spotify:track:0dAb8TY433dl3ZfXYCLE19</td>\n",
       "      <td>https://api.spotify.com/v1/tracks/0dAb8TY433dl...</td>\n",
       "      <td>https://api.spotify.com/v1/audio-analysis/0dAb...</td>\n",
       "      <td>193293</td>\n",
       "      <td>4</td>\n",
       "      <td>1</td>\n",
       "    </tr>\n",
       "    <tr>\n",
       "      <th>2</th>\n",
       "      <td>Super Gremlin</td>\n",
       "      <td>Super Gremlin - 20s HipHop</td>\n",
       "      <td>Kodak Black</td>\n",
       "      <td>200547</td>\n",
       "      <td>spotify:track:6ZHkPseDytPv1xu3MhtR2m</td>\n",
       "      <td>https://api.spotify.com/v1/tracks/6ZHkPseDytPv...</td>\n",
       "      <td>0.825</td>\n",
       "      <td>0.414</td>\n",
       "      <td>2</td>\n",
       "      <td>-6.634</td>\n",
       "      <td>...</td>\n",
       "      <td>0.106</td>\n",
       "      <td>72.993</td>\n",
       "      <td>audio_features</td>\n",
       "      <td>6ZHkPseDytPv1xu3MhtR2m</td>\n",
       "      <td>spotify:track:6ZHkPseDytPv1xu3MhtR2m</td>\n",
       "      <td>https://api.spotify.com/v1/tracks/6ZHkPseDytPv...</td>\n",
       "      <td>https://api.spotify.com/v1/audio-analysis/6ZHk...</td>\n",
       "      <td>200548</td>\n",
       "      <td>4</td>\n",
       "      <td>1</td>\n",
       "    </tr>\n",
       "    <tr>\n",
       "      <th>3</th>\n",
       "      <td>abcdefu (Drill Remix)</td>\n",
       "      <td>Greatest Drill Remix Hits</td>\n",
       "      <td>Drill Remix Guys</td>\n",
       "      <td>167541</td>\n",
       "      <td>spotify:track:5RiSr5eK0EpNZhynpC2abr</td>\n",
       "      <td>https://api.spotify.com/v1/tracks/5RiSr5eK0EpN...</td>\n",
       "      <td>0.762</td>\n",
       "      <td>0.645</td>\n",
       "      <td>4</td>\n",
       "      <td>-2.831</td>\n",
       "      <td>...</td>\n",
       "      <td>0.250</td>\n",
       "      <td>121.943</td>\n",
       "      <td>audio_features</td>\n",
       "      <td>5RiSr5eK0EpNZhynpC2abr</td>\n",
       "      <td>spotify:track:5RiSr5eK0EpNZhynpC2abr</td>\n",
       "      <td>https://api.spotify.com/v1/tracks/5RiSr5eK0EpN...</td>\n",
       "      <td>https://api.spotify.com/v1/audio-analysis/5RiS...</td>\n",
       "      <td>167542</td>\n",
       "      <td>4</td>\n",
       "      <td>1</td>\n",
       "    </tr>\n",
       "    <tr>\n",
       "      <th>4</th>\n",
       "      <td>We Don't Talk About Bruno (From \"Encanto\")</td>\n",
       "      <td>We Don't Talk About Bruno (From \"Encanto\")</td>\n",
       "      <td>Club Unicorn</td>\n",
       "      <td>161500</td>\n",
       "      <td>spotify:track:1fgKyWLJjGXJHzvFTauP7C</td>\n",
       "      <td>https://api.spotify.com/v1/tracks/1fgKyWLJjGXJ...</td>\n",
       "      <td>0.686</td>\n",
       "      <td>0.306</td>\n",
       "      <td>0</td>\n",
       "      <td>-15.296</td>\n",
       "      <td>...</td>\n",
       "      <td>0.503</td>\n",
       "      <td>119.988</td>\n",
       "      <td>audio_features</td>\n",
       "      <td>1fgKyWLJjGXJHzvFTauP7C</td>\n",
       "      <td>spotify:track:1fgKyWLJjGXJHzvFTauP7C</td>\n",
       "      <td>https://api.spotify.com/v1/tracks/1fgKyWLJjGXJ...</td>\n",
       "      <td>https://api.spotify.com/v1/audio-analysis/1fgK...</td>\n",
       "      <td>161500</td>\n",
       "      <td>4</td>\n",
       "      <td>7</td>\n",
       "    </tr>\n",
       "  </tbody>\n",
       "</table>\n",
       "<p>5 rows × 25 columns</p>\n",
       "</div>"
      ],
      "text/plain": [
       "                                    song_name  \\\n",
       "0                                  Heat Waves   \n",
       "1                  All You Had To Do Was Stay   \n",
       "2                               Super Gremlin   \n",
       "3                       abcdefu (Drill Remix)   \n",
       "4  We Don't Talk About Bruno (From \"Encanto\")   \n",
       "\n",
       "                                   album_name       artist_name  duration_ms  \\\n",
       "0                         Tunes of the Summer     Glass Animals       238805   \n",
       "1                                        1989      Taylor Swift       193293   \n",
       "2                  Super Gremlin - 20s HipHop       Kodak Black       200547   \n",
       "3                   Greatest Drill Remix Hits  Drill Remix Guys       167541   \n",
       "4  We Don't Talk About Bruno (From \"Encanto\")      Club Unicorn       161500   \n",
       "\n",
       "                                    uri  \\\n",
       "0  spotify:track:5wdzXMLwhcYD8YVZibN4ih   \n",
       "1  spotify:track:0dAb8TY433dl3ZfXYCLE19   \n",
       "2  spotify:track:6ZHkPseDytPv1xu3MhtR2m   \n",
       "3  spotify:track:5RiSr5eK0EpNZhynpC2abr   \n",
       "4  spotify:track:1fgKyWLJjGXJHzvFTauP7C   \n",
       "\n",
       "                                                href  danceability  energy  \\\n",
       "0  https://api.spotify.com/v1/tracks/5wdzXMLwhcYD...         0.761   0.525   \n",
       "1  https://api.spotify.com/v1/tracks/0dAb8TY433dl...         0.602   0.736   \n",
       "2  https://api.spotify.com/v1/tracks/6ZHkPseDytPv...         0.825   0.414   \n",
       "3  https://api.spotify.com/v1/tracks/5RiSr5eK0EpN...         0.762   0.645   \n",
       "4  https://api.spotify.com/v1/tracks/1fgKyWLJjGXJ...         0.686   0.306   \n",
       "\n",
       "   key  loudness  ...  valence    tempo            type  \\\n",
       "0   11    -6.900  ...    0.531   80.870  audio_features   \n",
       "1    5    -5.778  ...    0.471   96.969  audio_features   \n",
       "2    2    -6.634  ...    0.106   72.993  audio_features   \n",
       "3    4    -2.831  ...    0.250  121.943  audio_features   \n",
       "4    0   -15.296  ...    0.503  119.988  audio_features   \n",
       "\n",
       "                       id                                 uri.1  \\\n",
       "0  5wdzXMLwhcYD8YVZibN4ih  spotify:track:5wdzXMLwhcYD8YVZibN4ih   \n",
       "1  0dAb8TY433dl3ZfXYCLE19  spotify:track:0dAb8TY433dl3ZfXYCLE19   \n",
       "2  6ZHkPseDytPv1xu3MhtR2m  spotify:track:6ZHkPseDytPv1xu3MhtR2m   \n",
       "3  5RiSr5eK0EpNZhynpC2abr  spotify:track:5RiSr5eK0EpNZhynpC2abr   \n",
       "4  1fgKyWLJjGXJHzvFTauP7C  spotify:track:1fgKyWLJjGXJHzvFTauP7C   \n",
       "\n",
       "                                          track_href  \\\n",
       "0  https://api.spotify.com/v1/tracks/5wdzXMLwhcYD...   \n",
       "1  https://api.spotify.com/v1/tracks/0dAb8TY433dl...   \n",
       "2  https://api.spotify.com/v1/tracks/6ZHkPseDytPv...   \n",
       "3  https://api.spotify.com/v1/tracks/5RiSr5eK0EpN...   \n",
       "4  https://api.spotify.com/v1/tracks/1fgKyWLJjGXJ...   \n",
       "\n",
       "                                        analysis_url duration_ms.1  \\\n",
       "0  https://api.spotify.com/v1/audio-analysis/5wdz...        238805   \n",
       "1  https://api.spotify.com/v1/audio-analysis/0dAb...        193293   \n",
       "2  https://api.spotify.com/v1/audio-analysis/6ZHk...        200548   \n",
       "3  https://api.spotify.com/v1/audio-analysis/5RiS...        167542   \n",
       "4  https://api.spotify.com/v1/audio-analysis/1fgK...        161500   \n",
       "\n",
       "  time_signature cluster  \n",
       "0              4       1  \n",
       "1              4       1  \n",
       "2              4       1  \n",
       "3              4       1  \n",
       "4              4       7  \n",
       "\n",
       "[5 rows x 25 columns]"
      ]
     },
     "execution_count": 25,
     "metadata": {},
     "output_type": "execute_result"
    }
   ],
   "source": [
    "hot100_cl = hot100.copy()\n",
    "hot100_cl[\"cluster\"] = clusters[:100]\n",
    "hot100_cl.to_csv('../data/100hot_clusters.csv')\n",
    "print(hot100_cl.shape)\n",
    "hot100_cl.head()"
   ]
  },
  {
   "cell_type": "code",
   "execution_count": 26,
   "id": "nearby-proceeding",
   "metadata": {},
   "outputs": [
    {
     "data": {
      "text/plain": [
       "(12883,)"
      ]
     },
     "execution_count": 26,
     "metadata": {},
     "output_type": "execute_result"
    }
   ],
   "source": [
    "clusters[100:].shape"
   ]
  },
  {
   "cell_type": "code",
   "execution_count": 27,
   "id": "pending-bunny",
   "metadata": {},
   "outputs": [
    {
     "data": {
      "text/plain": [
       "(12883, 25)"
      ]
     },
     "execution_count": 27,
     "metadata": {},
     "output_type": "execute_result"
    }
   ],
   "source": [
    "nothot.shape"
   ]
  },
  {
   "cell_type": "code",
   "execution_count": 28,
   "id": "absolute-restriction",
   "metadata": {},
   "outputs": [
    {
     "name": "stdout",
     "output_type": "stream",
     "text": [
      "(12883, 26)\n"
     ]
    },
    {
     "data": {
      "text/html": [
       "<div>\n",
       "<style scoped>\n",
       "    .dataframe tbody tr th:only-of-type {\n",
       "        vertical-align: middle;\n",
       "    }\n",
       "\n",
       "    .dataframe tbody tr th {\n",
       "        vertical-align: top;\n",
       "    }\n",
       "\n",
       "    .dataframe thead th {\n",
       "        text-align: right;\n",
       "    }\n",
       "</style>\n",
       "<table border=\"1\" class=\"dataframe\">\n",
       "  <thead>\n",
       "    <tr style=\"text-align: right;\">\n",
       "      <th></th>\n",
       "      <th>Unnamed: 0</th>\n",
       "      <th>song_name</th>\n",
       "      <th>album_name</th>\n",
       "      <th>artist_name</th>\n",
       "      <th>duration_ms</th>\n",
       "      <th>uri</th>\n",
       "      <th>href</th>\n",
       "      <th>danceability</th>\n",
       "      <th>energy</th>\n",
       "      <th>key</th>\n",
       "      <th>...</th>\n",
       "      <th>valence</th>\n",
       "      <th>tempo</th>\n",
       "      <th>type</th>\n",
       "      <th>id</th>\n",
       "      <th>uri.1</th>\n",
       "      <th>track_href</th>\n",
       "      <th>analysis_url</th>\n",
       "      <th>duration_ms.1</th>\n",
       "      <th>time_signature</th>\n",
       "      <th>cluster</th>\n",
       "    </tr>\n",
       "  </thead>\n",
       "  <tbody>\n",
       "    <tr>\n",
       "      <th>0</th>\n",
       "      <td>0</td>\n",
       "      <td>Testify</td>\n",
       "      <td>The Battle Of Los Angeles</td>\n",
       "      <td>Rage Against The Machine</td>\n",
       "      <td>210133</td>\n",
       "      <td>spotify:track:7lmeHLHBe4nmXzuXc0HDjk</td>\n",
       "      <td>https://api.spotify.com/v1/tracks/7lmeHLHBe4nm...</td>\n",
       "      <td>0.470</td>\n",
       "      <td>0.978</td>\n",
       "      <td>7.0</td>\n",
       "      <td>...</td>\n",
       "      <td>0.503</td>\n",
       "      <td>117.906</td>\n",
       "      <td>audio_features</td>\n",
       "      <td>7lmeHLHBe4nmXzuXc0HDjk</td>\n",
       "      <td>spotify:track:7lmeHLHBe4nmXzuXc0HDjk</td>\n",
       "      <td>https://api.spotify.com/v1/tracks/7lmeHLHBe4nm...</td>\n",
       "      <td>https://api.spotify.com/v1/audio-analysis/7lme...</td>\n",
       "      <td>210133.0</td>\n",
       "      <td>4.0</td>\n",
       "      <td>1</td>\n",
       "    </tr>\n",
       "    <tr>\n",
       "      <th>1</th>\n",
       "      <td>1</td>\n",
       "      <td>Guerrilla Radio - Live, Mexico City, Mexico, O...</td>\n",
       "      <td>The Battle Of Mexico City (Live)</td>\n",
       "      <td>Rage Against The Machine</td>\n",
       "      <td>205320</td>\n",
       "      <td>spotify:track:44u7NcQyoLLd69KL1uK4B9</td>\n",
       "      <td>https://api.spotify.com/v1/tracks/44u7NcQyoLLd...</td>\n",
       "      <td>0.346</td>\n",
       "      <td>0.916</td>\n",
       "      <td>11.0</td>\n",
       "      <td>...</td>\n",
       "      <td>0.229</td>\n",
       "      <td>104.868</td>\n",
       "      <td>audio_features</td>\n",
       "      <td>44u7NcQyoLLd69KL1uK4B9</td>\n",
       "      <td>spotify:track:44u7NcQyoLLd69KL1uK4B9</td>\n",
       "      <td>https://api.spotify.com/v1/tracks/44u7NcQyoLLd...</td>\n",
       "      <td>https://api.spotify.com/v1/audio-analysis/44u7...</td>\n",
       "      <td>205320.0</td>\n",
       "      <td>4.0</td>\n",
       "      <td>4</td>\n",
       "    </tr>\n",
       "    <tr>\n",
       "      <th>2</th>\n",
       "      <td>2</td>\n",
       "      <td>Calm Like A Bomb</td>\n",
       "      <td>The Matrix Reloaded: The Album</td>\n",
       "      <td>Rage Against The Machine</td>\n",
       "      <td>298706</td>\n",
       "      <td>spotify:track:0VnpSZutFXt3MP4R2shCTl</td>\n",
       "      <td>https://api.spotify.com/v1/tracks/0VnpSZutFXt3...</td>\n",
       "      <td>0.321</td>\n",
       "      <td>0.967</td>\n",
       "      <td>7.0</td>\n",
       "      <td>...</td>\n",
       "      <td>0.358</td>\n",
       "      <td>149.528</td>\n",
       "      <td>audio_features</td>\n",
       "      <td>0VnpSZutFXt3MP4R2shCTl</td>\n",
       "      <td>spotify:track:0VnpSZutFXt3MP4R2shCTl</td>\n",
       "      <td>https://api.spotify.com/v1/tracks/0VnpSZutFXt3...</td>\n",
       "      <td>https://api.spotify.com/v1/audio-analysis/0Vnp...</td>\n",
       "      <td>298707.0</td>\n",
       "      <td>4.0</td>\n",
       "      <td>0</td>\n",
       "    </tr>\n",
       "    <tr>\n",
       "      <th>3</th>\n",
       "      <td>3</td>\n",
       "      <td>Mic Check</td>\n",
       "      <td>The Battle Of Los Angeles</td>\n",
       "      <td>Rage Against The Machine</td>\n",
       "      <td>213640</td>\n",
       "      <td>spotify:track:2lbASgTSoDO7MTuLAXlTW0</td>\n",
       "      <td>https://api.spotify.com/v1/tracks/2lbASgTSoDO7...</td>\n",
       "      <td>0.440</td>\n",
       "      <td>0.967</td>\n",
       "      <td>11.0</td>\n",
       "      <td>...</td>\n",
       "      <td>0.574</td>\n",
       "      <td>96.752</td>\n",
       "      <td>audio_features</td>\n",
       "      <td>2lbASgTSoDO7MTuLAXlTW0</td>\n",
       "      <td>spotify:track:2lbASgTSoDO7MTuLAXlTW0</td>\n",
       "      <td>https://api.spotify.com/v1/tracks/2lbASgTSoDO7...</td>\n",
       "      <td>https://api.spotify.com/v1/audio-analysis/2lbA...</td>\n",
       "      <td>213640.0</td>\n",
       "      <td>4.0</td>\n",
       "      <td>9</td>\n",
       "    </tr>\n",
       "    <tr>\n",
       "      <th>4</th>\n",
       "      <td>4</td>\n",
       "      <td>Sleep Now In the Fire - Live, Mexico City, Mex...</td>\n",
       "      <td>The Battle Of Mexico City (Live)</td>\n",
       "      <td>Rage Against The Machine</td>\n",
       "      <td>212226</td>\n",
       "      <td>spotify:track:2cCLSoArihZWI3vVRYoezq</td>\n",
       "      <td>https://api.spotify.com/v1/tracks/2cCLSoArihZW...</td>\n",
       "      <td>0.330</td>\n",
       "      <td>0.834</td>\n",
       "      <td>7.0</td>\n",
       "      <td>...</td>\n",
       "      <td>0.332</td>\n",
       "      <td>132.919</td>\n",
       "      <td>audio_features</td>\n",
       "      <td>2cCLSoArihZWI3vVRYoezq</td>\n",
       "      <td>spotify:track:2cCLSoArihZWI3vVRYoezq</td>\n",
       "      <td>https://api.spotify.com/v1/tracks/2cCLSoArihZW...</td>\n",
       "      <td>https://api.spotify.com/v1/audio-analysis/2cCL...</td>\n",
       "      <td>212227.0</td>\n",
       "      <td>4.0</td>\n",
       "      <td>4</td>\n",
       "    </tr>\n",
       "  </tbody>\n",
       "</table>\n",
       "<p>5 rows × 26 columns</p>\n",
       "</div>"
      ],
      "text/plain": [
       "   Unnamed: 0                                          song_name  \\\n",
       "0           0                                            Testify   \n",
       "1           1  Guerrilla Radio - Live, Mexico City, Mexico, O...   \n",
       "2           2                                   Calm Like A Bomb   \n",
       "3           3                                          Mic Check   \n",
       "4           4  Sleep Now In the Fire - Live, Mexico City, Mex...   \n",
       "\n",
       "                         album_name               artist_name  duration_ms  \\\n",
       "0         The Battle Of Los Angeles  Rage Against The Machine       210133   \n",
       "1  The Battle Of Mexico City (Live)  Rage Against The Machine       205320   \n",
       "2    The Matrix Reloaded: The Album  Rage Against The Machine       298706   \n",
       "3         The Battle Of Los Angeles  Rage Against The Machine       213640   \n",
       "4  The Battle Of Mexico City (Live)  Rage Against The Machine       212226   \n",
       "\n",
       "                                    uri  \\\n",
       "0  spotify:track:7lmeHLHBe4nmXzuXc0HDjk   \n",
       "1  spotify:track:44u7NcQyoLLd69KL1uK4B9   \n",
       "2  spotify:track:0VnpSZutFXt3MP4R2shCTl   \n",
       "3  spotify:track:2lbASgTSoDO7MTuLAXlTW0   \n",
       "4  spotify:track:2cCLSoArihZWI3vVRYoezq   \n",
       "\n",
       "                                                href  danceability  energy  \\\n",
       "0  https://api.spotify.com/v1/tracks/7lmeHLHBe4nm...         0.470   0.978   \n",
       "1  https://api.spotify.com/v1/tracks/44u7NcQyoLLd...         0.346   0.916   \n",
       "2  https://api.spotify.com/v1/tracks/0VnpSZutFXt3...         0.321   0.967   \n",
       "3  https://api.spotify.com/v1/tracks/2lbASgTSoDO7...         0.440   0.967   \n",
       "4  https://api.spotify.com/v1/tracks/2cCLSoArihZW...         0.330   0.834   \n",
       "\n",
       "    key  ...  valence    tempo            type                      id  \\\n",
       "0   7.0  ...    0.503  117.906  audio_features  7lmeHLHBe4nmXzuXc0HDjk   \n",
       "1  11.0  ...    0.229  104.868  audio_features  44u7NcQyoLLd69KL1uK4B9   \n",
       "2   7.0  ...    0.358  149.528  audio_features  0VnpSZutFXt3MP4R2shCTl   \n",
       "3  11.0  ...    0.574   96.752  audio_features  2lbASgTSoDO7MTuLAXlTW0   \n",
       "4   7.0  ...    0.332  132.919  audio_features  2cCLSoArihZWI3vVRYoezq   \n",
       "\n",
       "                                  uri.1  \\\n",
       "0  spotify:track:7lmeHLHBe4nmXzuXc0HDjk   \n",
       "1  spotify:track:44u7NcQyoLLd69KL1uK4B9   \n",
       "2  spotify:track:0VnpSZutFXt3MP4R2shCTl   \n",
       "3  spotify:track:2lbASgTSoDO7MTuLAXlTW0   \n",
       "4  spotify:track:2cCLSoArihZWI3vVRYoezq   \n",
       "\n",
       "                                          track_href  \\\n",
       "0  https://api.spotify.com/v1/tracks/7lmeHLHBe4nm...   \n",
       "1  https://api.spotify.com/v1/tracks/44u7NcQyoLLd...   \n",
       "2  https://api.spotify.com/v1/tracks/0VnpSZutFXt3...   \n",
       "3  https://api.spotify.com/v1/tracks/2lbASgTSoDO7...   \n",
       "4  https://api.spotify.com/v1/tracks/2cCLSoArihZW...   \n",
       "\n",
       "                                        analysis_url  duration_ms.1  \\\n",
       "0  https://api.spotify.com/v1/audio-analysis/7lme...       210133.0   \n",
       "1  https://api.spotify.com/v1/audio-analysis/44u7...       205320.0   \n",
       "2  https://api.spotify.com/v1/audio-analysis/0Vnp...       298707.0   \n",
       "3  https://api.spotify.com/v1/audio-analysis/2lbA...       213640.0   \n",
       "4  https://api.spotify.com/v1/audio-analysis/2cCL...       212227.0   \n",
       "\n",
       "  time_signature cluster  \n",
       "0            4.0       1  \n",
       "1            4.0       4  \n",
       "2            4.0       0  \n",
       "3            4.0       9  \n",
       "4            4.0       4  \n",
       "\n",
       "[5 rows x 26 columns]"
      ]
     },
     "execution_count": 28,
     "metadata": {},
     "output_type": "execute_result"
    }
   ],
   "source": [
    "nothot_cl = nothot.copy()\n",
    "\n",
    "nothot_cl[\"cluster\"] = clusters[100:]\n",
    "# nothot_cl.to_csv('../data/nothot_clusters.csv')\n",
    "print(nothot_cl.shape)\n",
    "nothot_cl.head()"
   ]
  },
  {
   "cell_type": "markdown",
   "id": "advance-latvia",
   "metadata": {},
   "source": [
    "## 4. Clustering model - DBSCAN"
   ]
  },
  {
   "cell_type": "markdown",
   "id": "rolled-implementation",
   "metadata": {},
   "source": [
    "### In order to get the best epsilon"
   ]
  },
  {
   "cell_type": "code",
   "execution_count": 29,
   "id": "celtic-nomination",
   "metadata": {},
   "outputs": [],
   "source": [
    "from sklearn.neighbors import NearestNeighbors\n",
    "from matplotlib import pyplot as plt"
   ]
  },
  {
   "cell_type": "code",
   "execution_count": 30,
   "id": "fourth-ordinary",
   "metadata": {},
   "outputs": [],
   "source": [
    "neighbors = NearestNeighbors(n_neighbors=20)\n",
    "neighbors_fit = neighbors.fit(X_scaled_df)\n",
    "distances, indices = neighbors_fit.kneighbors(X_scaled_df)"
   ]
  },
  {
   "cell_type": "code",
   "execution_count": 31,
   "id": "continued-respect",
   "metadata": {},
   "outputs": [
    {
     "data": {
      "text/plain": [
       "[<matplotlib.lines.Line2D at 0x7fd828c6f5e0>]"
      ]
     },
     "execution_count": 31,
     "metadata": {},
     "output_type": "execute_result"
    },
    {
     "data": {
      "image/png": "[encoded data removed]",
      "text/plain": [
       "<Figure size 432x288 with 1 Axes>"
      ]
     },
     "metadata": {
      "needs_background": "light"
     },
     "output_type": "display_data"
    }
   ],
   "source": [
    "distances2 = distances\n",
    "distances2 = np.sort(distances2, axis=0)\n",
    "distances2 = distances2[:,1]\n",
    "epsilon = 1.9\n",
    "plt.axhline(epsilon, color='red', linewidth=0.5)\n",
    "plt.axhline(epsilon, color='red', linewidth=0.5)\n",
    "plt.plot(distances2)"
   ]
  },
  {
   "cell_type": "markdown",
   "id": "appreciated-sessions",
   "metadata": {},
   "source": [
    "### Get the model"
   ]
  },
  {
   "cell_type": "code",
   "execution_count": 32,
   "id": "collectible-quality",
   "metadata": {},
   "outputs": [],
   "source": [
    "from sklearn.cluster import DBSCAN"
   ]
  },
  {
   "cell_type": "code",
   "execution_count": 33,
   "id": "adolescent-system",
   "metadata": {},
   "outputs": [],
   "source": [
    "model = DBSCAN(eps=1.9, min_samples=15)\n",
    "\n",
    "filename = \"../model/dbscan.pickle\" # Path with filename\n",
    "with open(filename, \"wb\") as file:\n",
    "    pickle.dump(model,file)\n",
    "    \n",
    "yhat = model.fit_predict(X_scaled_df)"
   ]
  },
  {
   "cell_type": "code",
   "execution_count": 34,
   "id": "bottom-seeking",
   "metadata": {},
   "outputs": [
    {
     "data": {
      "text/plain": [
       "array([-1,  0,  1,  2,  3,  4,  5,  6])"
      ]
     },
     "execution_count": 34,
     "metadata": {},
     "output_type": "execute_result"
    }
   ],
   "source": [
    "# retrieve unique clusters\n",
    "clusters = np.unique(yhat)\n",
    "clusters"
   ]
  },
  {
   "cell_type": "markdown",
   "id": "talented-inspection",
   "metadata": {},
   "source": [
    "### Asign clusters"
   ]
  },
  {
   "cell_type": "code",
   "execution_count": 35,
   "id": "plain-award",
   "metadata": {},
   "outputs": [
    {
     "name": "stdout",
     "output_type": "stream",
     "text": [
      "(100, 25)\n"
     ]
    },
    {
     "data": {
      "text/html": [
       "<div>\n",
       "<style scoped>\n",
       "    .dataframe tbody tr th:only-of-type {\n",
       "        vertical-align: middle;\n",
       "    }\n",
       "\n",
       "    .dataframe tbody tr th {\n",
       "        vertical-align: top;\n",
       "    }\n",
       "\n",
       "    .dataframe thead th {\n",
       "        text-align: right;\n",
       "    }\n",
       "</style>\n",
       "<table border=\"1\" class=\"dataframe\">\n",
       "  <thead>\n",
       "    <tr style=\"text-align: right;\">\n",
       "      <th></th>\n",
       "      <th>song_name</th>\n",
       "      <th>album_name</th>\n",
       "      <th>artist_name</th>\n",
       "      <th>duration_ms</th>\n",
       "      <th>uri</th>\n",
       "      <th>href</th>\n",
       "      <th>danceability</th>\n",
       "      <th>energy</th>\n",
       "      <th>key</th>\n",
       "      <th>loudness</th>\n",
       "      <th>...</th>\n",
       "      <th>valence</th>\n",
       "      <th>tempo</th>\n",
       "      <th>type</th>\n",
       "      <th>id</th>\n",
       "      <th>uri.1</th>\n",
       "      <th>track_href</th>\n",
       "      <th>analysis_url</th>\n",
       "      <th>duration_ms.1</th>\n",
       "      <th>time_signature</th>\n",
       "      <th>cluster</th>\n",
       "    </tr>\n",
       "  </thead>\n",
       "  <tbody>\n",
       "    <tr>\n",
       "      <th>0</th>\n",
       "      <td>Heat Waves</td>\n",
       "      <td>Tunes of the Summer</td>\n",
       "      <td>Glass Animals</td>\n",
       "      <td>238805</td>\n",
       "      <td>spotify:track:5wdzXMLwhcYD8YVZibN4ih</td>\n",
       "      <td>https://api.spotify.com/v1/tracks/5wdzXMLwhcYD...</td>\n",
       "      <td>0.761</td>\n",
       "      <td>0.525</td>\n",
       "      <td>11</td>\n",
       "      <td>-6.900</td>\n",
       "      <td>...</td>\n",
       "      <td>0.531</td>\n",
       "      <td>80.870</td>\n",
       "      <td>audio_features</td>\n",
       "      <td>5wdzXMLwhcYD8YVZibN4ih</td>\n",
       "      <td>spotify:track:5wdzXMLwhcYD8YVZibN4ih</td>\n",
       "      <td>https://api.spotify.com/v1/tracks/5wdzXMLwhcYD...</td>\n",
       "      <td>https://api.spotify.com/v1/audio-analysis/5wdz...</td>\n",
       "      <td>238805</td>\n",
       "      <td>4</td>\n",
       "      <td>0</td>\n",
       "    </tr>\n",
       "    <tr>\n",
       "      <th>1</th>\n",
       "      <td>All You Had To Do Was Stay</td>\n",
       "      <td>1989</td>\n",
       "      <td>Taylor Swift</td>\n",
       "      <td>193293</td>\n",
       "      <td>spotify:track:0dAb8TY433dl3ZfXYCLE19</td>\n",
       "      <td>https://api.spotify.com/v1/tracks/0dAb8TY433dl...</td>\n",
       "      <td>0.602</td>\n",
       "      <td>0.736</td>\n",
       "      <td>5</td>\n",
       "      <td>-5.778</td>\n",
       "      <td>...</td>\n",
       "      <td>0.471</td>\n",
       "      <td>96.969</td>\n",
       "      <td>audio_features</td>\n",
       "      <td>0dAb8TY433dl3ZfXYCLE19</td>\n",
       "      <td>spotify:track:0dAb8TY433dl3ZfXYCLE19</td>\n",
       "      <td>https://api.spotify.com/v1/tracks/0dAb8TY433dl...</td>\n",
       "      <td>https://api.spotify.com/v1/audio-analysis/0dAb...</td>\n",
       "      <td>193293</td>\n",
       "      <td>4</td>\n",
       "      <td>0</td>\n",
       "    </tr>\n",
       "    <tr>\n",
       "      <th>2</th>\n",
       "      <td>Super Gremlin</td>\n",
       "      <td>Super Gremlin - 20s HipHop</td>\n",
       "      <td>Kodak Black</td>\n",
       "      <td>200547</td>\n",
       "      <td>spotify:track:6ZHkPseDytPv1xu3MhtR2m</td>\n",
       "      <td>https://api.spotify.com/v1/tracks/6ZHkPseDytPv...</td>\n",
       "      <td>0.825</td>\n",
       "      <td>0.414</td>\n",
       "      <td>2</td>\n",
       "      <td>-6.634</td>\n",
       "      <td>...</td>\n",
       "      <td>0.106</td>\n",
       "      <td>72.993</td>\n",
       "      <td>audio_features</td>\n",
       "      <td>6ZHkPseDytPv1xu3MhtR2m</td>\n",
       "      <td>spotify:track:6ZHkPseDytPv1xu3MhtR2m</td>\n",
       "      <td>https://api.spotify.com/v1/tracks/6ZHkPseDytPv...</td>\n",
       "      <td>https://api.spotify.com/v1/audio-analysis/6ZHk...</td>\n",
       "      <td>200548</td>\n",
       "      <td>4</td>\n",
       "      <td>0</td>\n",
       "    </tr>\n",
       "    <tr>\n",
       "      <th>3</th>\n",
       "      <td>abcdefu (Drill Remix)</td>\n",
       "      <td>Greatest Drill Remix Hits</td>\n",
       "      <td>Drill Remix Guys</td>\n",
       "      <td>167541</td>\n",
       "      <td>spotify:track:5RiSr5eK0EpNZhynpC2abr</td>\n",
       "      <td>https://api.spotify.com/v1/tracks/5RiSr5eK0EpN...</td>\n",
       "      <td>0.762</td>\n",
       "      <td>0.645</td>\n",
       "      <td>4</td>\n",
       "      <td>-2.831</td>\n",
       "      <td>...</td>\n",
       "      <td>0.250</td>\n",
       "      <td>121.943</td>\n",
       "      <td>audio_features</td>\n",
       "      <td>5RiSr5eK0EpNZhynpC2abr</td>\n",
       "      <td>spotify:track:5RiSr5eK0EpNZhynpC2abr</td>\n",
       "      <td>https://api.spotify.com/v1/tracks/5RiSr5eK0EpN...</td>\n",
       "      <td>https://api.spotify.com/v1/audio-analysis/5RiS...</td>\n",
       "      <td>167542</td>\n",
       "      <td>4</td>\n",
       "      <td>0</td>\n",
       "    </tr>\n",
       "    <tr>\n",
       "      <th>4</th>\n",
       "      <td>We Don't Talk About Bruno (From \"Encanto\")</td>\n",
       "      <td>We Don't Talk About Bruno (From \"Encanto\")</td>\n",
       "      <td>Club Unicorn</td>\n",
       "      <td>161500</td>\n",
       "      <td>spotify:track:1fgKyWLJjGXJHzvFTauP7C</td>\n",
       "      <td>https://api.spotify.com/v1/tracks/1fgKyWLJjGXJ...</td>\n",
       "      <td>0.686</td>\n",
       "      <td>0.306</td>\n",
       "      <td>0</td>\n",
       "      <td>-15.296</td>\n",
       "      <td>...</td>\n",
       "      <td>0.503</td>\n",
       "      <td>119.988</td>\n",
       "      <td>audio_features</td>\n",
       "      <td>1fgKyWLJjGXJHzvFTauP7C</td>\n",
       "      <td>spotify:track:1fgKyWLJjGXJHzvFTauP7C</td>\n",
       "      <td>https://api.spotify.com/v1/tracks/1fgKyWLJjGXJ...</td>\n",
       "      <td>https://api.spotify.com/v1/audio-analysis/1fgK...</td>\n",
       "      <td>161500</td>\n",
       "      <td>4</td>\n",
       "      <td>1</td>\n",
       "    </tr>\n",
       "  </tbody>\n",
       "</table>\n",
       "<p>5 rows × 25 columns</p>\n",
       "</div>"
      ],
      "text/plain": [
       "                                    song_name  \\\n",
       "0                                  Heat Waves   \n",
       "1                  All You Had To Do Was Stay   \n",
       "2                               Super Gremlin   \n",
       "3                       abcdefu (Drill Remix)   \n",
       "4  We Don't Talk About Bruno (From \"Encanto\")   \n",
       "\n",
       "                                   album_name       artist_name  duration_ms  \\\n",
       "0                         Tunes of the Summer     Glass Animals       238805   \n",
       "1                                        1989      Taylor Swift       193293   \n",
       "2                  Super Gremlin - 20s HipHop       Kodak Black       200547   \n",
       "3                   Greatest Drill Remix Hits  Drill Remix Guys       167541   \n",
       "4  We Don't Talk About Bruno (From \"Encanto\")      Club Unicorn       161500   \n",
       "\n",
       "                                    uri  \\\n",
       "0  spotify:track:5wdzXMLwhcYD8YVZibN4ih   \n",
       "1  spotify:track:0dAb8TY433dl3ZfXYCLE19   \n",
       "2  spotify:track:6ZHkPseDytPv1xu3MhtR2m   \n",
       "3  spotify:track:5RiSr5eK0EpNZhynpC2abr   \n",
       "4  spotify:track:1fgKyWLJjGXJHzvFTauP7C   \n",
       "\n",
       "                                                href  danceability  energy  \\\n",
       "0  https://api.spotify.com/v1/tracks/5wdzXMLwhcYD...         0.761   0.525   \n",
       "1  https://api.spotify.com/v1/tracks/0dAb8TY433dl...         0.602   0.736   \n",
       "2  https://api.spotify.com/v1/tracks/6ZHkPseDytPv...         0.825   0.414   \n",
       "3  https://api.spotify.com/v1/tracks/5RiSr5eK0EpN...         0.762   0.645   \n",
       "4  https://api.spotify.com/v1/tracks/1fgKyWLJjGXJ...         0.686   0.306   \n",
       "\n",
       "   key  loudness  ...  valence    tempo            type  \\\n",
       "0   11    -6.900  ...    0.531   80.870  audio_features   \n",
       "1    5    -5.778  ...    0.471   96.969  audio_features   \n",
       "2    2    -6.634  ...    0.106   72.993  audio_features   \n",
       "3    4    -2.831  ...    0.250  121.943  audio_features   \n",
       "4    0   -15.296  ...    0.503  119.988  audio_features   \n",
       "\n",
       "                       id                                 uri.1  \\\n",
       "0  5wdzXMLwhcYD8YVZibN4ih  spotify:track:5wdzXMLwhcYD8YVZibN4ih   \n",
       "1  0dAb8TY433dl3ZfXYCLE19  spotify:track:0dAb8TY433dl3ZfXYCLE19   \n",
       "2  6ZHkPseDytPv1xu3MhtR2m  spotify:track:6ZHkPseDytPv1xu3MhtR2m   \n",
       "3  5RiSr5eK0EpNZhynpC2abr  spotify:track:5RiSr5eK0EpNZhynpC2abr   \n",
       "4  1fgKyWLJjGXJHzvFTauP7C  spotify:track:1fgKyWLJjGXJHzvFTauP7C   \n",
       "\n",
       "                                          track_href  \\\n",
       "0  https://api.spotify.com/v1/tracks/5wdzXMLwhcYD...   \n",
       "1  https://api.spotify.com/v1/tracks/0dAb8TY433dl...   \n",
       "2  https://api.spotify.com/v1/tracks/6ZHkPseDytPv...   \n",
       "3  https://api.spotify.com/v1/tracks/5RiSr5eK0EpN...   \n",
       "4  https://api.spotify.com/v1/tracks/1fgKyWLJjGXJ...   \n",
       "\n",
       "                                        analysis_url duration_ms.1  \\\n",
       "0  https://api.spotify.com/v1/audio-analysis/5wdz...        238805   \n",
       "1  https://api.spotify.com/v1/audio-analysis/0dAb...        193293   \n",
       "2  https://api.spotify.com/v1/audio-analysis/6ZHk...        200548   \n",
       "3  https://api.spotify.com/v1/audio-analysis/5RiS...        167542   \n",
       "4  https://api.spotify.com/v1/audio-analysis/1fgK...        161500   \n",
       "\n",
       "  time_signature cluster  \n",
       "0              4       0  \n",
       "1              4       0  \n",
       "2              4       0  \n",
       "3              4       0  \n",
       "4              4       1  \n",
       "\n",
       "[5 rows x 25 columns]"
      ]
     },
     "execution_count": 35,
     "metadata": {},
     "output_type": "execute_result"
    }
   ],
   "source": [
    "hot100_cl2 = hot100.copy()\n",
    "hot100_cl2[\"cluster\"] = yhat[:100]\n",
    "hot100_cl2.to_csv('../data/100hot_clusters_dbscan.csv')\n",
    "print(hot100_cl2.shape)\n",
    "hot100_cl2.head()"
   ]
  },
  {
   "cell_type": "code",
   "execution_count": 36,
   "id": "significant-shoot",
   "metadata": {},
   "outputs": [
    {
     "name": "stdout",
     "output_type": "stream",
     "text": [
      "(12883, 26)\n"
     ]
    },
    {
     "data": {
      "text/html": [
       "<div>\n",
       "<style scoped>\n",
       "    .dataframe tbody tr th:only-of-type {\n",
       "        vertical-align: middle;\n",
       "    }\n",
       "\n",
       "    .dataframe tbody tr th {\n",
       "        vertical-align: top;\n",
       "    }\n",
       "\n",
       "    .dataframe thead th {\n",
       "        text-align: right;\n",
       "    }\n",
       "</style>\n",
       "<table border=\"1\" class=\"dataframe\">\n",
       "  <thead>\n",
       "    <tr style=\"text-align: right;\">\n",
       "      <th></th>\n",
       "      <th>Unnamed: 0</th>\n",
       "      <th>song_name</th>\n",
       "      <th>album_name</th>\n",
       "      <th>artist_name</th>\n",
       "      <th>duration_ms</th>\n",
       "      <th>uri</th>\n",
       "      <th>href</th>\n",
       "      <th>danceability</th>\n",
       "      <th>energy</th>\n",
       "      <th>key</th>\n",
       "      <th>...</th>\n",
       "      <th>valence</th>\n",
       "      <th>tempo</th>\n",
       "      <th>type</th>\n",
       "      <th>id</th>\n",
       "      <th>uri.1</th>\n",
       "      <th>track_href</th>\n",
       "      <th>analysis_url</th>\n",
       "      <th>duration_ms.1</th>\n",
       "      <th>time_signature</th>\n",
       "      <th>cluster</th>\n",
       "    </tr>\n",
       "  </thead>\n",
       "  <tbody>\n",
       "    <tr>\n",
       "      <th>0</th>\n",
       "      <td>0</td>\n",
       "      <td>Testify</td>\n",
       "      <td>The Battle Of Los Angeles</td>\n",
       "      <td>Rage Against The Machine</td>\n",
       "      <td>210133</td>\n",
       "      <td>spotify:track:7lmeHLHBe4nmXzuXc0HDjk</td>\n",
       "      <td>https://api.spotify.com/v1/tracks/7lmeHLHBe4nm...</td>\n",
       "      <td>0.470</td>\n",
       "      <td>0.978</td>\n",
       "      <td>7.0</td>\n",
       "      <td>...</td>\n",
       "      <td>0.503</td>\n",
       "      <td>117.906</td>\n",
       "      <td>audio_features</td>\n",
       "      <td>7lmeHLHBe4nmXzuXc0HDjk</td>\n",
       "      <td>spotify:track:7lmeHLHBe4nmXzuXc0HDjk</td>\n",
       "      <td>https://api.spotify.com/v1/tracks/7lmeHLHBe4nm...</td>\n",
       "      <td>https://api.spotify.com/v1/audio-analysis/7lme...</td>\n",
       "      <td>210133.0</td>\n",
       "      <td>4.0</td>\n",
       "      <td>0</td>\n",
       "    </tr>\n",
       "    <tr>\n",
       "      <th>1</th>\n",
       "      <td>1</td>\n",
       "      <td>Guerrilla Radio - Live, Mexico City, Mexico, O...</td>\n",
       "      <td>The Battle Of Mexico City (Live)</td>\n",
       "      <td>Rage Against The Machine</td>\n",
       "      <td>205320</td>\n",
       "      <td>spotify:track:44u7NcQyoLLd69KL1uK4B9</td>\n",
       "      <td>https://api.spotify.com/v1/tracks/44u7NcQyoLLd...</td>\n",
       "      <td>0.346</td>\n",
       "      <td>0.916</td>\n",
       "      <td>11.0</td>\n",
       "      <td>...</td>\n",
       "      <td>0.229</td>\n",
       "      <td>104.868</td>\n",
       "      <td>audio_features</td>\n",
       "      <td>44u7NcQyoLLd69KL1uK4B9</td>\n",
       "      <td>spotify:track:44u7NcQyoLLd69KL1uK4B9</td>\n",
       "      <td>https://api.spotify.com/v1/tracks/44u7NcQyoLLd...</td>\n",
       "      <td>https://api.spotify.com/v1/audio-analysis/44u7...</td>\n",
       "      <td>205320.0</td>\n",
       "      <td>4.0</td>\n",
       "      <td>0</td>\n",
       "    </tr>\n",
       "    <tr>\n",
       "      <th>2</th>\n",
       "      <td>2</td>\n",
       "      <td>Calm Like A Bomb</td>\n",
       "      <td>The Matrix Reloaded: The Album</td>\n",
       "      <td>Rage Against The Machine</td>\n",
       "      <td>298706</td>\n",
       "      <td>spotify:track:0VnpSZutFXt3MP4R2shCTl</td>\n",
       "      <td>https://api.spotify.com/v1/tracks/0VnpSZutFXt3...</td>\n",
       "      <td>0.321</td>\n",
       "      <td>0.967</td>\n",
       "      <td>7.0</td>\n",
       "      <td>...</td>\n",
       "      <td>0.358</td>\n",
       "      <td>149.528</td>\n",
       "      <td>audio_features</td>\n",
       "      <td>0VnpSZutFXt3MP4R2shCTl</td>\n",
       "      <td>spotify:track:0VnpSZutFXt3MP4R2shCTl</td>\n",
       "      <td>https://api.spotify.com/v1/tracks/0VnpSZutFXt3...</td>\n",
       "      <td>https://api.spotify.com/v1/audio-analysis/0Vnp...</td>\n",
       "      <td>298707.0</td>\n",
       "      <td>4.0</td>\n",
       "      <td>0</td>\n",
       "    </tr>\n",
       "    <tr>\n",
       "      <th>3</th>\n",
       "      <td>3</td>\n",
       "      <td>Mic Check</td>\n",
       "      <td>The Battle Of Los Angeles</td>\n",
       "      <td>Rage Against The Machine</td>\n",
       "      <td>213640</td>\n",
       "      <td>spotify:track:2lbASgTSoDO7MTuLAXlTW0</td>\n",
       "      <td>https://api.spotify.com/v1/tracks/2lbASgTSoDO7...</td>\n",
       "      <td>0.440</td>\n",
       "      <td>0.967</td>\n",
       "      <td>11.0</td>\n",
       "      <td>...</td>\n",
       "      <td>0.574</td>\n",
       "      <td>96.752</td>\n",
       "      <td>audio_features</td>\n",
       "      <td>2lbASgTSoDO7MTuLAXlTW0</td>\n",
       "      <td>spotify:track:2lbASgTSoDO7MTuLAXlTW0</td>\n",
       "      <td>https://api.spotify.com/v1/tracks/2lbASgTSoDO7...</td>\n",
       "      <td>https://api.spotify.com/v1/audio-analysis/2lbA...</td>\n",
       "      <td>213640.0</td>\n",
       "      <td>4.0</td>\n",
       "      <td>1</td>\n",
       "    </tr>\n",
       "    <tr>\n",
       "      <th>4</th>\n",
       "      <td>4</td>\n",
       "      <td>Sleep Now In the Fire - Live, Mexico City, Mex...</td>\n",
       "      <td>The Battle Of Mexico City (Live)</td>\n",
       "      <td>Rage Against The Machine</td>\n",
       "      <td>212226</td>\n",
       "      <td>spotify:track:2cCLSoArihZWI3vVRYoezq</td>\n",
       "      <td>https://api.spotify.com/v1/tracks/2cCLSoArihZW...</td>\n",
       "      <td>0.330</td>\n",
       "      <td>0.834</td>\n",
       "      <td>7.0</td>\n",
       "      <td>...</td>\n",
       "      <td>0.332</td>\n",
       "      <td>132.919</td>\n",
       "      <td>audio_features</td>\n",
       "      <td>2cCLSoArihZWI3vVRYoezq</td>\n",
       "      <td>spotify:track:2cCLSoArihZWI3vVRYoezq</td>\n",
       "      <td>https://api.spotify.com/v1/tracks/2cCLSoArihZW...</td>\n",
       "      <td>https://api.spotify.com/v1/audio-analysis/2cCL...</td>\n",
       "      <td>212227.0</td>\n",
       "      <td>4.0</td>\n",
       "      <td>0</td>\n",
       "    </tr>\n",
       "  </tbody>\n",
       "</table>\n",
       "<p>5 rows × 26 columns</p>\n",
       "</div>"
      ],
      "text/plain": [
       "   Unnamed: 0                                          song_name  \\\n",
       "0           0                                            Testify   \n",
       "1           1  Guerrilla Radio - Live, Mexico City, Mexico, O...   \n",
       "2           2                                   Calm Like A Bomb   \n",
       "3           3                                          Mic Check   \n",
       "4           4  Sleep Now In the Fire - Live, Mexico City, Mex...   \n",
       "\n",
       "                         album_name               artist_name  duration_ms  \\\n",
       "0         The Battle Of Los Angeles  Rage Against The Machine       210133   \n",
       "1  The Battle Of Mexico City (Live)  Rage Against The Machine       205320   \n",
       "2    The Matrix Reloaded: The Album  Rage Against The Machine       298706   \n",
       "3         The Battle Of Los Angeles  Rage Against The Machine       213640   \n",
       "4  The Battle Of Mexico City (Live)  Rage Against The Machine       212226   \n",
       "\n",
       "                                    uri  \\\n",
       "0  spotify:track:7lmeHLHBe4nmXzuXc0HDjk   \n",
       "1  spotify:track:44u7NcQyoLLd69KL1uK4B9   \n",
       "2  spotify:track:0VnpSZutFXt3MP4R2shCTl   \n",
       "3  spotify:track:2lbASgTSoDO7MTuLAXlTW0   \n",
       "4  spotify:track:2cCLSoArihZWI3vVRYoezq   \n",
       "\n",
       "                                                href  danceability  energy  \\\n",
       "0  https://api.spotify.com/v1/tracks/7lmeHLHBe4nm...         0.470   0.978   \n",
       "1  https://api.spotify.com/v1/tracks/44u7NcQyoLLd...         0.346   0.916   \n",
       "2  https://api.spotify.com/v1/tracks/0VnpSZutFXt3...         0.321   0.967   \n",
       "3  https://api.spotify.com/v1/tracks/2lbASgTSoDO7...         0.440   0.967   \n",
       "4  https://api.spotify.com/v1/tracks/2cCLSoArihZW...         0.330   0.834   \n",
       "\n",
       "    key  ...  valence    tempo            type                      id  \\\n",
       "0   7.0  ...    0.503  117.906  audio_features  7lmeHLHBe4nmXzuXc0HDjk   \n",
       "1  11.0  ...    0.229  104.868  audio_features  44u7NcQyoLLd69KL1uK4B9   \n",
       "2   7.0  ...    0.358  149.528  audio_features  0VnpSZutFXt3MP4R2shCTl   \n",
       "3  11.0  ...    0.574   96.752  audio_features  2lbASgTSoDO7MTuLAXlTW0   \n",
       "4   7.0  ...    0.332  132.919  audio_features  2cCLSoArihZWI3vVRYoezq   \n",
       "\n",
       "                                  uri.1  \\\n",
       "0  spotify:track:7lmeHLHBe4nmXzuXc0HDjk   \n",
       "1  spotify:track:44u7NcQyoLLd69KL1uK4B9   \n",
       "2  spotify:track:0VnpSZutFXt3MP4R2shCTl   \n",
       "3  spotify:track:2lbASgTSoDO7MTuLAXlTW0   \n",
       "4  spotify:track:2cCLSoArihZWI3vVRYoezq   \n",
       "\n",
       "                                          track_href  \\\n",
       "0  https://api.spotify.com/v1/tracks/7lmeHLHBe4nm...   \n",
       "1  https://api.spotify.com/v1/tracks/44u7NcQyoLLd...   \n",
       "2  https://api.spotify.com/v1/tracks/0VnpSZutFXt3...   \n",
       "3  https://api.spotify.com/v1/tracks/2lbASgTSoDO7...   \n",
       "4  https://api.spotify.com/v1/tracks/2cCLSoArihZW...   \n",
       "\n",
       "                                        analysis_url  duration_ms.1  \\\n",
       "0  https://api.spotify.com/v1/audio-analysis/7lme...       210133.0   \n",
       "1  https://api.spotify.com/v1/audio-analysis/44u7...       205320.0   \n",
       "2  https://api.spotify.com/v1/audio-analysis/0Vnp...       298707.0   \n",
       "3  https://api.spotify.com/v1/audio-analysis/2lbA...       213640.0   \n",
       "4  https://api.spotify.com/v1/audio-analysis/2cCL...       212227.0   \n",
       "\n",
       "  time_signature cluster  \n",
       "0            4.0       0  \n",
       "1            4.0       0  \n",
       "2            4.0       0  \n",
       "3            4.0       1  \n",
       "4            4.0       0  \n",
       "\n",
       "[5 rows x 26 columns]"
      ]
     },
     "execution_count": 36,
     "metadata": {},
     "output_type": "execute_result"
    }
   ],
   "source": [
    "nothot_cl2 = nothot.copy()\n",
    "nothot_cl2[\"cluster\"] = yhat[100:]\n",
    "nothot_cl2.to_csv('../data/nothot_clusters_dbscan.csv')\n",
    "print(nothot_cl2.shape)\n",
    "nothot_cl2.head()"
   ]
  }
 ],
 "metadata": {
  "kernelspec": {
   "display_name": "Python 3 (ipykernel)",
   "language": "python",
   "name": "python3"
  },
  "language_info": {
   "codemirror_mode": {
    "name": "ipython",
    "version": 3
   },
   "file_extension": ".py",
   "mimetype": "text/x-python",
   "name": "python",
   "nbconvert_exporter": "python",
   "pygments_lexer": "ipython3",
   "version": "3.9.5"
  }
 },
 "nbformat": 4,
 "nbformat_minor": 5
}
