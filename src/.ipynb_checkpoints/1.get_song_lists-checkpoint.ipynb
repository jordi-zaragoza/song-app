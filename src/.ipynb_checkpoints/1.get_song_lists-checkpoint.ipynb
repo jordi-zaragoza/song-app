{
 "cells": [
  {
   "cell_type": "code",
   "execution_count": 1,
   "id": "stylish-velvet",
   "metadata": {},
   "outputs": [],
   "source": [
    "import pandas as pd\n",
    "import numpy as np\n",
    "import music_jzar\n",
    "from config import *\n",
    "import spotipy\n",
    "import json\n",
    "from spotipy.oauth2 import SpotifyClientCredentials\n",
    "import spoty_jzar\n",
    "import time"
   ]
  },
  {
   "cell_type": "markdown",
   "id": "hazardous-james",
   "metadata": {},
   "source": [
    "# Get Songs lists\n",
    "\n",
    "Here I will get the songs lists with their features: \n",
    "- first scrap songs from 100hot website and from another DB : (tracks_features.csv)\n",
    "- then get the features from spotify"
   ]
  },
  {
   "cell_type": "code",
   "execution_count": 2,
   "id": "divided-density",
   "metadata": {},
   "outputs": [
    {
     "name": "stdout",
     "output_type": "stream",
     "text": [
      "Initialize sp\n"
     ]
    }
   ],
   "source": [
    "sp_jzar = spoty_jzar.Spoty_jzar()"
   ]
  },
  {
   "cell_type": "markdown",
   "id": "remarkable-ordinary",
   "metadata": {},
   "source": [
    "## 1. Get the songs lists"
   ]
  },
  {
   "cell_type": "markdown",
   "id": "accompanied-symphony",
   "metadata": {},
   "source": [
    "The scrapping is done using my function inside the library music_jar"
   ]
  },
  {
   "cell_type": "code",
   "execution_count": 4,
   "id": "genuine-killer",
   "metadata": {},
   "outputs": [],
   "source": [
    "# nothot, hot100 = music_jzar.dataframes_generator()\n",
    "# nothot.to_csv('../data/nothot.csv')\n",
    "# hot100.to_csv('../data/hot100.csv')"
   ]
  },
  {
   "cell_type": "code",
   "execution_count": 16,
   "id": "hydraulic-forth",
   "metadata": {},
   "outputs": [],
   "source": [
    "nothot = pd.read_csv('../data/nothot.csv', index_col=0)\n",
    "hot100 = pd.read_csv('../data/hot100.csv', index_col=0)"
   ]
  },
  {
   "cell_type": "markdown",
   "id": "removed-composition",
   "metadata": {},
   "source": [
    "## 2. Get the features from spotify"
   ]
  },
  {
   "cell_type": "markdown",
   "id": "joint-athens",
   "metadata": {},
   "source": [
    "### a) Hot songs"
   ]
  },
  {
   "cell_type": "code",
   "execution_count": 5,
   "id": "joined-watershed",
   "metadata": {},
   "outputs": [
    {
     "data": {
      "text/html": [
       "<div>\n",
       "<style scoped>\n",
       "    .dataframe tbody tr th:only-of-type {\n",
       "        vertical-align: middle;\n",
       "    }\n",
       "\n",
       "    .dataframe tbody tr th {\n",
       "        vertical-align: top;\n",
       "    }\n",
       "\n",
       "    .dataframe thead th {\n",
       "        text-align: right;\n",
       "    }\n",
       "</style>\n",
       "<table border=\"1\" class=\"dataframe\">\n",
       "  <thead>\n",
       "    <tr style=\"text-align: right;\">\n",
       "      <th></th>\n",
       "      <th>songs</th>\n",
       "      <th>artists</th>\n",
       "    </tr>\n",
       "  </thead>\n",
       "  <tbody>\n",
       "    <tr>\n",
       "      <th>0</th>\n",
       "      <td>Heat Waves</td>\n",
       "      <td>Glass Animals</td>\n",
       "    </tr>\n",
       "    <tr>\n",
       "      <th>1</th>\n",
       "      <td>Stay</td>\n",
       "      <td>The Kid LAROI &amp; Justin Bieber</td>\n",
       "    </tr>\n",
       "    <tr>\n",
       "      <th>2</th>\n",
       "      <td>Super Gremlin</td>\n",
       "      <td>Kodak Black</td>\n",
       "    </tr>\n",
       "  </tbody>\n",
       "</table>\n",
       "</div>"
      ],
      "text/plain": [
       "           songs                        artists\n",
       "0     Heat Waves                  Glass Animals\n",
       "1           Stay  The Kid LAROI & Justin Bieber\n",
       "2  Super Gremlin                    Kodak Black"
      ]
     },
     "execution_count": 5,
     "metadata": {},
     "output_type": "execute_result"
    }
   ],
   "source": [
    "hot100.head(3)"
   ]
  },
  {
   "cell_type": "code",
   "execution_count": null,
   "id": "functional-lawrence",
   "metadata": {
    "scrolled": true
   },
   "outputs": [],
   "source": [
    "song_list = pd.DataFrame()\n",
    "\n",
    "for idx in range(hot100.shape[0]):\n",
    "    song = hot100.loc[[idx]]\n",
    "    \n",
    "    try:\n",
    "        song_aux = sp_jzar.search_song(song_name_fun = song.songs.values[0], \n",
    "                                       artist_name_fun = song.artists.values[0][0], \n",
    "                                       results_lim = 50,\n",
    "                                       drop_song = True)   \n",
    "        if (type(song_aux) != int):\n",
    "            song_list = pd.concat([song_list,song_aux])\n",
    "            \n",
    "    except:\n",
    "        print(\"Error in song: \",song.songs)\n",
    "    \n",
    "song_list.reset_index(inplace = True, drop = True)"
   ]
  },
  {
   "cell_type": "code",
   "execution_count": null,
   "id": "interior-shaft",
   "metadata": {},
   "outputs": [],
   "source": [
    "print(song_list.shape)\n",
    "song_list.head(3)"
   ]
  },
  {
   "cell_type": "code",
   "execution_count": null,
   "id": "dimensional-stage",
   "metadata": {},
   "outputs": [],
   "source": [
    "hot100_features = sp_jzar.get_audio_features(song_list = song_list)"
   ]
  },
  {
   "cell_type": "code",
   "execution_count": null,
   "id": "frozen-slovenia",
   "metadata": {
    "scrolled": true
   },
   "outputs": [],
   "source": [
    "hot100_features.head(3)"
   ]
  },
  {
   "cell_type": "code",
   "execution_count": null,
   "id": "agreed-syntax",
   "metadata": {},
   "outputs": [],
   "source": [
    "hot100_features.to_csv('../data/hot100_features.csv')"
   ]
  },
  {
   "cell_type": "code",
   "execution_count": null,
   "id": "ethical-switch",
   "metadata": {},
   "outputs": [],
   "source": [
    "sp_jzar.call_counter"
   ]
  },
  {
   "cell_type": "code",
   "execution_count": null,
   "id": "primary-document",
   "metadata": {},
   "outputs": [],
   "source": [
    "sp_jzar.unknown_artists"
   ]
  },
  {
   "cell_type": "markdown",
   "id": "commercial-communications",
   "metadata": {},
   "source": [
    "### b) Not hot songs "
   ]
  },
  {
   "cell_type": "markdown",
   "id": "facial-parameter",
   "metadata": {},
   "source": [
    "As we see we have a huge database so we will run the following funtion until we get blocked in spotify"
   ]
  },
  {
   "cell_type": "code",
   "execution_count": 17,
   "id": "theoretical-values",
   "metadata": {},
   "outputs": [
    {
     "data": {
      "text/plain": [
       "(1203093, 24)"
      ]
     },
     "execution_count": 17,
     "metadata": {},
     "output_type": "execute_result"
    }
   ],
   "source": [
    "nothot.shape"
   ]
  },
  {
   "cell_type": "code",
   "execution_count": 18,
   "id": "visible-salmon",
   "metadata": {},
   "outputs": [],
   "source": [
    "nothot['artists'] = nothot.artists.apply(lambda x: x.replace(\"[\", \"\").replace(\"]\", \"\").replace(\"'\", \"\").split(','))"
   ]
  },
  {
   "cell_type": "markdown",
   "id": "spoken-expert",
   "metadata": {},
   "source": [
    "I am going to cut it in pieces"
   ]
  },
  {
   "cell_type": "code",
   "execution_count": 19,
   "id": "lucky-bobby",
   "metadata": {},
   "outputs": [],
   "source": [
    "sample_size = 1000\n",
    "rg = range(22,nothot.shape[0]//sample_size)"
   ]
  },
  {
   "cell_type": "code",
   "execution_count": 20,
   "id": "received-briefing",
   "metadata": {},
   "outputs": [
    {
     "data": {
      "text/plain": [
       "range(22, 1203)"
      ]
     },
     "execution_count": 20,
     "metadata": {},
     "output_type": "execute_result"
    }
   ],
   "source": [
    "rg"
   ]
  },
  {
   "cell_type": "code",
   "execution_count": null,
   "id": "improved-color",
   "metadata": {
    "scrolled": true
   },
   "outputs": [
    {
     "name": "stdout",
     "output_type": "stream",
     "text": [
      "2000\n",
      "Number of calls:  2000\n",
      "Number of calls:  3000\n",
      "3000\n",
      "Number of calls:  4000\n",
      "4000\n",
      "Number of calls:  5000\n",
      "Number of calls:  6000\n",
      "5000\n",
      "Number of calls:  7000\n",
      "6000\n",
      "Number of calls:  8000\n",
      "Number of calls:  9000\n",
      "7000\n",
      "Number of calls:  10000\n",
      "Number of calls:  11000\n",
      "8000\n",
      "Number of calls:  12000\n",
      "9000\n",
      "Number of calls:  13000\n",
      "Number of calls:  14000\n",
      "10000\n",
      "Number of calls:  15000\n",
      "11000\n",
      "Number of calls:  16000\n",
      "Number of calls:  17000\n",
      "12000\n",
      "Number of calls:  18000\n",
      "Number of calls:  19000\n",
      "13000\n",
      "Number of calls:  20000\n",
      "14000\n",
      "Number of calls:  21000\n",
      "Number of calls:  22000\n",
      "15000\n",
      "Number of calls:  23000\n",
      "16000\n",
      "Number of calls:  24000\n",
      "Number of calls:  25000\n",
      "17000\n",
      "Number of calls:  26000\n",
      "18000\n",
      "Number of calls:  27000\n",
      "Number of calls:  28000\n",
      "19000\n",
      "Number of calls:  29000\n",
      "Number of calls:  30000\n",
      "20000\n",
      "Number of calls:  31000\n",
      "21000\n",
      "Number of calls:  32000\n",
      "Number of calls:  33000\n",
      "22000\n",
      "Error in song:  Elephant Island\n"
     ]
    }
   ],
   "source": [
    "for i in rg:\n",
    "    \n",
    "    min_idx = i*sample_size\n",
    "    max_idx = (i+1)*sample_size\n",
    "    print(max_idx)\n",
    "    \n",
    "    nothot_sample = nothot.iloc[min_idx:max_idx,:]\n",
    "    nothot_sample.reset_index(inplace = True,drop = True)\n",
    "    \n",
    "    song_list = sp_jzar.get_songs(nothot_sample)\n",
    "    \n",
    "    nothot_features = sp_jzar.get_audio_features(song_list = song_list)\n",
    "    \n",
    "    nothot_features.to_csv('../data/nothot_features_' + str(i) +'.csv')\n",
    "    "
   ]
  },
  {
   "cell_type": "markdown",
   "id": "monthly-gravity",
   "metadata": {},
   "source": [
    "#### Create one file with all the songs"
   ]
  },
  {
   "cell_type": "code",
   "execution_count": 11,
   "id": "spoken-concrete",
   "metadata": {},
   "outputs": [],
   "source": [
    "stop = False\n",
    "i = 0\n",
    "df_tot = pd.read_csv('../data/nothot_features_' + str(i) +'.csv')\n",
    "\n",
    "for i in range(21):\n",
    "    df_aux = pd.read_csv('../data/nothot_features_' + str(i) +'.csv')\n",
    "\n",
    "    df_tot = pd.concat([df_tot,df_aux])\n",
    "\n",
    "\n"
   ]
  },
  {
   "cell_type": "code",
   "execution_count": 10,
   "id": "figured-bracket",
   "metadata": {},
   "outputs": [
    {
     "data": {
      "text/plain": [
       "(12888, 26)"
      ]
     },
     "execution_count": 10,
     "metadata": {},
     "output_type": "execute_result"
    }
   ],
   "source": [
    "df_tot.shape"
   ]
  },
  {
   "cell_type": "markdown",
   "id": "figured-agency",
   "metadata": {},
   "source": [
    "We mix all we could retrieve from spotify"
   ]
  },
  {
   "cell_type": "code",
   "execution_count": 9,
   "id": "respective-begin",
   "metadata": {},
   "outputs": [],
   "source": [
    "df_aux = pd.read_csv('../data/nothot_features_' + str(i) +'.csv')\n",
    "df_tot2 = pd.concat([df_tot,df_aux])\n",
    "df_tot2.to_csv('../data/nothot_features_total.csv')"
   ]
  },
  {
   "cell_type": "code",
   "execution_count": 10,
   "id": "enormous-reception",
   "metadata": {},
   "outputs": [
    {
     "data": {
      "text/plain": [
       "(21108, 27)"
      ]
     },
     "execution_count": 10,
     "metadata": {},
     "output_type": "execute_result"
    }
   ],
   "source": [
    "df_tot2.shape"
   ]
  },
  {
   "cell_type": "code",
   "execution_count": null,
   "id": "complicated-fellowship",
   "metadata": {},
   "outputs": [],
   "source": []
  }
 ],
 "metadata": {
  "kernelspec": {
   "display_name": "Python 3 (ipykernel)",
   "language": "python",
   "name": "python3"
  },
  "language_info": {
   "codemirror_mode": {
    "name": "ipython",
    "version": 3
   },
   "file_extension": ".py",
   "mimetype": "text/x-python",
   "name": "python",
   "nbconvert_exporter": "python",
   "pygments_lexer": "ipython3",
   "version": "3.9.5"
  }
 },
 "nbformat": 4,
 "nbformat_minor": 5
}
