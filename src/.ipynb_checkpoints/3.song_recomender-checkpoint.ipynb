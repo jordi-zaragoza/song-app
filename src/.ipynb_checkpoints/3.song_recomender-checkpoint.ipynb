{
 "cells": [
  {
   "cell_type": "code",
   "execution_count": 20,
   "id": "northern-sucking",
   "metadata": {},
   "outputs": [],
   "source": [
    "import pandas as pd\n",
    "import numpy as np\n",
    "import spoty_jzar\n",
    "import cluster_jzar\n",
    "import pickle"
   ]
  },
  {
   "cell_type": "markdown",
   "id": "valued-wayne",
   "metadata": {},
   "source": [
    "# Song recommender"
   ]
  },
  {
   "cell_type": "code",
   "execution_count": 21,
   "id": "global-expression",
   "metadata": {},
   "outputs": [],
   "source": [
    "pd.set_option('display.max_columns', None)"
   ]
  },
  {
   "cell_type": "code",
   "execution_count": 22,
   "id": "current-imperial",
   "metadata": {},
   "outputs": [],
   "source": [
    "hot100 = pd.read_csv('../data/100hot_clusters.csv', index_col=0)\n",
    "nothot = pd.read_csv('../data/nothot_clusters.csv', index_col=0)"
   ]
  },
  {
   "cell_type": "code",
   "execution_count": 23,
   "id": "eligible-nashville",
   "metadata": {},
   "outputs": [
    {
     "name": "stdout",
     "output_type": "stream",
     "text": [
      "Initialize sp\n"
     ]
    }
   ],
   "source": [
    "sp_jzar = spoty_jzar.Spoty_jzar()"
   ]
  },
  {
   "cell_type": "markdown",
   "id": "supreme-hundred",
   "metadata": {},
   "source": [
    "## 1. User inputs a song"
   ]
  },
  {
   "cell_type": "code",
   "execution_count": 24,
   "id": "stuck-faculty",
   "metadata": {},
   "outputs": [
    {
     "name": "stdout",
     "output_type": "stream",
     "text": [
      "Enter the name of the song:\n",
      "cla\n",
      "Could not find the artist:  None for the song  cla\n"
     ]
    },
    {
     "data": {
      "text/html": [
       "<div>\n",
       "<style scoped>\n",
       "    .dataframe tbody tr th:only-of-type {\n",
       "        vertical-align: middle;\n",
       "    }\n",
       "\n",
       "    .dataframe tbody tr th {\n",
       "        vertical-align: top;\n",
       "    }\n",
       "\n",
       "    .dataframe thead th {\n",
       "        text-align: right;\n",
       "    }\n",
       "</style>\n",
       "<table border=\"1\" class=\"dataframe\">\n",
       "  <thead>\n",
       "    <tr style=\"text-align: right;\">\n",
       "      <th></th>\n",
       "      <th>song_name</th>\n",
       "      <th>album_name</th>\n",
       "      <th>artist_name</th>\n",
       "      <th>duration_ms</th>\n",
       "      <th>uri</th>\n",
       "      <th>href</th>\n",
       "    </tr>\n",
       "  </thead>\n",
       "  <tbody>\n",
       "    <tr>\n",
       "      <th>0</th>\n",
       "      <td>Classic</td>\n",
       "      <td>MKTO</td>\n",
       "      <td>MKTO</td>\n",
       "      <td>175426</td>\n",
       "      <td>spotify:track:6FE2iI43OZnszFLuLtvvmg</td>\n",
       "      <td>https://api.spotify.com/v1/tracks/6FE2iI43OZns...</td>\n",
       "    </tr>\n",
       "    <tr>\n",
       "      <th>1</th>\n",
       "      <td>Are You Bored Yet? (feat. Clairo)</td>\n",
       "      <td>Nothing Happens</td>\n",
       "      <td>Wallows</td>\n",
       "      <td>178000</td>\n",
       "      <td>spotify:track:57RA3JGafJm5zRtKJiKPIm</td>\n",
       "      <td>https://api.spotify.com/v1/tracks/57RA3JGafJm5...</td>\n",
       "    </tr>\n",
       "    <tr>\n",
       "      <th>2</th>\n",
       "      <td>Clarity</td>\n",
       "      <td>Clarity</td>\n",
       "      <td>Zedd</td>\n",
       "      <td>271426</td>\n",
       "      <td>spotify:track:60wwxj6Dd9NJlirf84wr2c</td>\n",
       "      <td>https://api.spotify.com/v1/tracks/60wwxj6Dd9NJ...</td>\n",
       "    </tr>\n",
       "    <tr>\n",
       "      <th>3</th>\n",
       "      <td>Hablando Claro (En Vivo)</td>\n",
       "      <td>Hablando Claro (En Vivo)</td>\n",
       "      <td>Grupo Firme</td>\n",
       "      <td>190671</td>\n",
       "      <td>spotify:track:5hRFjooNvZWb9gdnXjrv2j</td>\n",
       "      <td>https://api.spotify.com/v1/tracks/5hRFjooNvZWb...</td>\n",
       "    </tr>\n",
       "    <tr>\n",
       "      <th>4</th>\n",
       "      <td>Wild (feat. Gary Clark Jr.)</td>\n",
       "      <td>Bigger Love</td>\n",
       "      <td>John Legend</td>\n",
       "      <td>196906</td>\n",
       "      <td>spotify:track:4rVW6XqAsSaf5vOwc8FREW</td>\n",
       "      <td>https://api.spotify.com/v1/tracks/4rVW6XqAsSaf...</td>\n",
       "    </tr>\n",
       "    <tr>\n",
       "      <th>5</th>\n",
       "      <td>Gym Class</td>\n",
       "      <td>Gym Class</td>\n",
       "      <td>Lil Peep</td>\n",
       "      <td>217000</td>\n",
       "      <td>spotify:track:08AJ0xQv5LRZsvXf1Jkr2y</td>\n",
       "      <td>https://api.spotify.com/v1/tracks/08AJ0xQv5LRZ...</td>\n",
       "    </tr>\n",
       "    <tr>\n",
       "      <th>6</th>\n",
       "      <td>CAN'T GET OVER YOU (feat. Clams Casino)</td>\n",
       "      <td>BALLADS 1</td>\n",
       "      <td>Joji</td>\n",
       "      <td>107076</td>\n",
       "      <td>spotify:track:39oeKRgsLeynDIbWuXyA47</td>\n",
       "      <td>https://api.spotify.com/v1/tracks/39oeKRgsLeyn...</td>\n",
       "    </tr>\n",
       "    <tr>\n",
       "      <th>7</th>\n",
       "      <td>First Class</td>\n",
       "      <td>Seven + Mary</td>\n",
       "      <td>Rainbow Kitten Surprise</td>\n",
       "      <td>343485</td>\n",
       "      <td>spotify:track:7trx783SvnHhKkmgSSTIFJ</td>\n",
       "      <td>https://api.spotify.com/v1/tracks/7trx783SvnHh...</td>\n",
       "    </tr>\n",
       "    <tr>\n",
       "      <th>8</th>\n",
       "      <td>Siempre Clave</td>\n",
       "      <td>Siempre Clave</td>\n",
       "      <td>T3R Elemento</td>\n",
       "      <td>194353</td>\n",
       "      <td>spotify:track:02aS4O8n7k4UGLXqodbfSk</td>\n",
       "      <td>https://api.spotify.com/v1/tracks/02aS4O8n7k4U...</td>\n",
       "    </tr>\n",
       "    <tr>\n",
       "      <th>9</th>\n",
       "      <td>SAD (Clap Your Hands)</td>\n",
       "      <td>SAD / Scatterbrain</td>\n",
       "      <td>Young Rising Sons</td>\n",
       "      <td>152202</td>\n",
       "      <td>spotify:track:22jEGuVPtvtMqKPuXdOVCh</td>\n",
       "      <td>https://api.spotify.com/v1/tracks/22jEGuVPtvtM...</td>\n",
       "    </tr>\n",
       "  </tbody>\n",
       "</table>\n",
       "</div>"
      ],
      "text/plain": [
       "                                 song_name                album_name  \\\n",
       "0                                  Classic                      MKTO   \n",
       "1        Are You Bored Yet? (feat. Clairo)           Nothing Happens   \n",
       "2                                  Clarity                   Clarity   \n",
       "3                 Hablando Claro (En Vivo)  Hablando Claro (En Vivo)   \n",
       "4              Wild (feat. Gary Clark Jr.)               Bigger Love   \n",
       "5                                Gym Class                 Gym Class   \n",
       "6  CAN'T GET OVER YOU (feat. Clams Casino)                 BALLADS 1   \n",
       "7                              First Class              Seven + Mary   \n",
       "8                            Siempre Clave             Siempre Clave   \n",
       "9                    SAD (Clap Your Hands)        SAD / Scatterbrain   \n",
       "\n",
       "               artist_name  duration_ms                                   uri  \\\n",
       "0                     MKTO       175426  spotify:track:6FE2iI43OZnszFLuLtvvmg   \n",
       "1                  Wallows       178000  spotify:track:57RA3JGafJm5zRtKJiKPIm   \n",
       "2                     Zedd       271426  spotify:track:60wwxj6Dd9NJlirf84wr2c   \n",
       "3              Grupo Firme       190671  spotify:track:5hRFjooNvZWb9gdnXjrv2j   \n",
       "4              John Legend       196906  spotify:track:4rVW6XqAsSaf5vOwc8FREW   \n",
       "5                 Lil Peep       217000  spotify:track:08AJ0xQv5LRZsvXf1Jkr2y   \n",
       "6                     Joji       107076  spotify:track:39oeKRgsLeynDIbWuXyA47   \n",
       "7  Rainbow Kitten Surprise       343485  spotify:track:7trx783SvnHhKkmgSSTIFJ   \n",
       "8             T3R Elemento       194353  spotify:track:02aS4O8n7k4UGLXqodbfSk   \n",
       "9        Young Rising Sons       152202  spotify:track:22jEGuVPtvtMqKPuXdOVCh   \n",
       "\n",
       "                                                href  \n",
       "0  https://api.spotify.com/v1/tracks/6FE2iI43OZns...  \n",
       "1  https://api.spotify.com/v1/tracks/57RA3JGafJm5...  \n",
       "2  https://api.spotify.com/v1/tracks/60wwxj6Dd9NJ...  \n",
       "3  https://api.spotify.com/v1/tracks/5hRFjooNvZWb...  \n",
       "4  https://api.spotify.com/v1/tracks/4rVW6XqAsSaf...  \n",
       "5  https://api.spotify.com/v1/tracks/08AJ0xQv5LRZ...  \n",
       "6  https://api.spotify.com/v1/tracks/39oeKRgsLeyn...  \n",
       "7  https://api.spotify.com/v1/tracks/7trx783SvnHh...  \n",
       "8  https://api.spotify.com/v1/tracks/02aS4O8n7k4U...  \n",
       "9  https://api.spotify.com/v1/tracks/22jEGuVPtvtM...  "
      ]
     },
     "metadata": {},
     "output_type": "display_data"
    },
    {
     "name": "stdout",
     "output_type": "stream",
     "text": [
      "Can you choose the song you are searching using the index num?9\n",
      "You choose number  9\n"
     ]
    },
    {
     "data": {
      "text/html": [
       "<div>\n",
       "<style scoped>\n",
       "    .dataframe tbody tr th:only-of-type {\n",
       "        vertical-align: middle;\n",
       "    }\n",
       "\n",
       "    .dataframe tbody tr th {\n",
       "        vertical-align: top;\n",
       "    }\n",
       "\n",
       "    .dataframe thead th {\n",
       "        text-align: right;\n",
       "    }\n",
       "</style>\n",
       "<table border=\"1\" class=\"dataframe\">\n",
       "  <thead>\n",
       "    <tr style=\"text-align: right;\">\n",
       "      <th></th>\n",
       "      <th>song_name</th>\n",
       "      <th>album_name</th>\n",
       "      <th>artist_name</th>\n",
       "      <th>duration_ms</th>\n",
       "      <th>uri</th>\n",
       "      <th>href</th>\n",
       "    </tr>\n",
       "  </thead>\n",
       "  <tbody>\n",
       "    <tr>\n",
       "      <th>9</th>\n",
       "      <td>SAD (Clap Your Hands)</td>\n",
       "      <td>SAD / Scatterbrain</td>\n",
       "      <td>Young Rising Sons</td>\n",
       "      <td>152202</td>\n",
       "      <td>spotify:track:22jEGuVPtvtMqKPuXdOVCh</td>\n",
       "      <td>https://api.spotify.com/v1/tracks/22jEGuVPtvtM...</td>\n",
       "    </tr>\n",
       "  </tbody>\n",
       "</table>\n",
       "</div>"
      ],
      "text/plain": [
       "               song_name          album_name        artist_name  duration_ms  \\\n",
       "9  SAD (Clap Your Hands)  SAD / Scatterbrain  Young Rising Sons       152202   \n",
       "\n",
       "                                    uri  \\\n",
       "9  spotify:track:22jEGuVPtvtMqKPuXdOVCh   \n",
       "\n",
       "                                                href  \n",
       "9  https://api.spotify.com/v1/tracks/22jEGuVPtvtM...  "
      ]
     },
     "metadata": {},
     "output_type": "display_data"
    }
   ],
   "source": [
    "song_selected = sp_jzar.search_song(song_name_fun = None, # asks you to input\n",
    "                                    artist_name_fun = None, # asks you to select\n",
    "                                    results_lim = 10, # number of choices\n",
    "                                    drop_song = False) # it lets you choose if it cannot find it"
   ]
  },
  {
   "cell_type": "markdown",
   "id": "rubber-commission",
   "metadata": {},
   "source": [
    "## 2. Get the song audio features"
   ]
  },
  {
   "cell_type": "code",
   "execution_count": 25,
   "id": "impaired-landing",
   "metadata": {},
   "outputs": [
    {
     "data": {
      "text/html": [
       "<div>\n",
       "<style scoped>\n",
       "    .dataframe tbody tr th:only-of-type {\n",
       "        vertical-align: middle;\n",
       "    }\n",
       "\n",
       "    .dataframe tbody tr th {\n",
       "        vertical-align: top;\n",
       "    }\n",
       "\n",
       "    .dataframe thead th {\n",
       "        text-align: right;\n",
       "    }\n",
       "</style>\n",
       "<table border=\"1\" class=\"dataframe\">\n",
       "  <thead>\n",
       "    <tr style=\"text-align: right;\">\n",
       "      <th></th>\n",
       "      <th>song_name</th>\n",
       "      <th>album_name</th>\n",
       "      <th>artist_name</th>\n",
       "      <th>duration_ms</th>\n",
       "      <th>uri</th>\n",
       "      <th>href</th>\n",
       "      <th>danceability</th>\n",
       "      <th>energy</th>\n",
       "      <th>key</th>\n",
       "      <th>loudness</th>\n",
       "      <th>mode</th>\n",
       "      <th>speechiness</th>\n",
       "      <th>acousticness</th>\n",
       "      <th>instrumentalness</th>\n",
       "      <th>liveness</th>\n",
       "      <th>valence</th>\n",
       "      <th>tempo</th>\n",
       "      <th>type</th>\n",
       "      <th>id</th>\n",
       "      <th>uri</th>\n",
       "      <th>track_href</th>\n",
       "      <th>analysis_url</th>\n",
       "      <th>duration_ms</th>\n",
       "      <th>time_signature</th>\n",
       "    </tr>\n",
       "  </thead>\n",
       "  <tbody>\n",
       "    <tr>\n",
       "      <th>0</th>\n",
       "      <td>SAD (Clap Your Hands)</td>\n",
       "      <td>SAD / Scatterbrain</td>\n",
       "      <td>Young Rising Sons</td>\n",
       "      <td>152202</td>\n",
       "      <td>spotify:track:22jEGuVPtvtMqKPuXdOVCh</td>\n",
       "      <td>https://api.spotify.com/v1/tracks/22jEGuVPtvtM...</td>\n",
       "      <td>0.671</td>\n",
       "      <td>0.874</td>\n",
       "      <td>0</td>\n",
       "      <td>-4.188</td>\n",
       "      <td>1</td>\n",
       "      <td>0.0448</td>\n",
       "      <td>0.0829</td>\n",
       "      <td>0.000027</td>\n",
       "      <td>0.294</td>\n",
       "      <td>0.747</td>\n",
       "      <td>109.96</td>\n",
       "      <td>audio_features</td>\n",
       "      <td>22jEGuVPtvtMqKPuXdOVCh</td>\n",
       "      <td>spotify:track:22jEGuVPtvtMqKPuXdOVCh</td>\n",
       "      <td>https://api.spotify.com/v1/tracks/22jEGuVPtvtM...</td>\n",
       "      <td>https://api.spotify.com/v1/audio-analysis/22jE...</td>\n",
       "      <td>152203</td>\n",
       "      <td>4</td>\n",
       "    </tr>\n",
       "  </tbody>\n",
       "</table>\n",
       "</div>"
      ],
      "text/plain": [
       "               song_name          album_name        artist_name  duration_ms  \\\n",
       "0  SAD (Clap Your Hands)  SAD / Scatterbrain  Young Rising Sons       152202   \n",
       "\n",
       "                                    uri  \\\n",
       "0  spotify:track:22jEGuVPtvtMqKPuXdOVCh   \n",
       "\n",
       "                                                href  danceability  energy  \\\n",
       "0  https://api.spotify.com/v1/tracks/22jEGuVPtvtM...         0.671   0.874   \n",
       "\n",
       "   key  loudness  mode  speechiness  acousticness  instrumentalness  liveness  \\\n",
       "0    0    -4.188     1       0.0448        0.0829          0.000027     0.294   \n",
       "\n",
       "   valence   tempo            type                      id  \\\n",
       "0    0.747  109.96  audio_features  22jEGuVPtvtMqKPuXdOVCh   \n",
       "\n",
       "                                    uri  \\\n",
       "0  spotify:track:22jEGuVPtvtMqKPuXdOVCh   \n",
       "\n",
       "                                          track_href  \\\n",
       "0  https://api.spotify.com/v1/tracks/22jEGuVPtvtM...   \n",
       "\n",
       "                                        analysis_url  duration_ms  \\\n",
       "0  https://api.spotify.com/v1/audio-analysis/22jE...       152203   \n",
       "\n",
       "   time_signature  \n",
       "0               4  "
      ]
     },
     "execution_count": 25,
     "metadata": {},
     "output_type": "execute_result"
    }
   ],
   "source": [
    "song_features = sp_jzar.get_audio_features(song_selected)\n",
    "song_features"
   ]
  },
  {
   "cell_type": "markdown",
   "id": "continuing-battle",
   "metadata": {},
   "source": [
    "## 3. Predict user's song cluster membership"
   ]
  },
  {
   "cell_type": "markdown",
   "id": "rubber-tension",
   "metadata": {},
   "source": [
    "Select features"
   ]
  },
  {
   "cell_type": "code",
   "execution_count": 26,
   "id": "earlier-leone",
   "metadata": {},
   "outputs": [],
   "source": [
    "X = song_features[['duration_ms','danceability', 'energy',\n",
    "           'loudness', 'mode', 'speechiness',\n",
    "           'acousticness', 'instrumentalness', 'liveness',\n",
    "           'valence', 'tempo', 'time_signature']]\n",
    "\n",
    "X = X.iloc[:,1:]"
   ]
  },
  {
   "cell_type": "markdown",
   "id": "front-example",
   "metadata": {},
   "source": [
    "Transform "
   ]
  },
  {
   "cell_type": "code",
   "execution_count": 27,
   "id": "fatal-significance",
   "metadata": {},
   "outputs": [
    {
     "name": "stdout",
     "output_type": "stream",
     "text": [
      "(1, 12)\n"
     ]
    },
    {
     "data": {
      "text/html": [
       "<div>\n",
       "<style scoped>\n",
       "    .dataframe tbody tr th:only-of-type {\n",
       "        vertical-align: middle;\n",
       "    }\n",
       "\n",
       "    .dataframe tbody tr th {\n",
       "        vertical-align: top;\n",
       "    }\n",
       "\n",
       "    .dataframe thead th {\n",
       "        text-align: right;\n",
       "    }\n",
       "</style>\n",
       "<table border=\"1\" class=\"dataframe\">\n",
       "  <thead>\n",
       "    <tr style=\"text-align: right;\">\n",
       "      <th></th>\n",
       "      <th>duration_ms</th>\n",
       "      <th>danceability</th>\n",
       "      <th>energy</th>\n",
       "      <th>loudness</th>\n",
       "      <th>mode</th>\n",
       "      <th>speechiness</th>\n",
       "      <th>acousticness</th>\n",
       "      <th>instrumentalness</th>\n",
       "      <th>liveness</th>\n",
       "      <th>valence</th>\n",
       "      <th>tempo</th>\n",
       "      <th>time_signature</th>\n",
       "    </tr>\n",
       "  </thead>\n",
       "  <tbody>\n",
       "    <tr>\n",
       "      <th>0</th>\n",
       "      <td>-0.587919</td>\n",
       "      <td>0.959114</td>\n",
       "      <td>1.236129</td>\n",
       "      <td>1.106305</td>\n",
       "      <td>0.705577</td>\n",
       "      <td>-0.346851</td>\n",
       "      <td>-0.96576</td>\n",
       "      <td>-0.789169</td>\n",
       "      <td>0.441932</td>\n",
       "      <td>1.179159</td>\n",
       "      <td>-0.236325</td>\n",
       "      <td>0.307437</td>\n",
       "    </tr>\n",
       "  </tbody>\n",
       "</table>\n",
       "</div>"
      ],
      "text/plain": [
       "   duration_ms  danceability    energy  loudness      mode  speechiness  \\\n",
       "0    -0.587919      0.959114  1.236129  1.106305  0.705577    -0.346851   \n",
       "\n",
       "   acousticness  instrumentalness  liveness   valence     tempo  \\\n",
       "0      -0.96576         -0.789169  0.441932  1.179159 -0.236325   \n",
       "\n",
       "   time_signature  \n",
       "0        0.307437  "
      ]
     },
     "metadata": {},
     "output_type": "display_data"
    }
   ],
   "source": [
    "filename = \"../transformer/scaler.pickle\" # Path with filename\n",
    "\n",
    "scaler = cluster_jzar.load_pickle(filename)\n",
    "        \n",
    "X_scaled = scaler.transform(X)\n",
    "\n",
    "X_scaled_df = pd.DataFrame(X_scaled, columns = X.columns)\n",
    "print(X_scaled_df.shape)\n",
    "display(X_scaled_df.head(3))"
   ]
  },
  {
   "cell_type": "markdown",
   "id": "animal-filter",
   "metadata": {},
   "source": [
    "Use the model"
   ]
  },
  {
   "cell_type": "code",
   "execution_count": 28,
   "id": "adequate-entrance",
   "metadata": {},
   "outputs": [],
   "source": [
    "# Retrieve the model we want\n",
    "k = 8\n",
    "filename = \"../model/kmeans_\" + str(k) + \".pickle\" # Path with filename\n",
    "kmeans = cluster_jzar.load_pickle(filename)"
   ]
  },
  {
   "cell_type": "code",
   "execution_count": 29,
   "id": "occasional-paintball",
   "metadata": {},
   "outputs": [
    {
     "data": {
      "text/plain": [
       "6"
      ]
     },
     "execution_count": 29,
     "metadata": {},
     "output_type": "execute_result"
    }
   ],
   "source": [
    "# Get the cluster\n",
    "song_cluster = kmeans.predict(X_scaled_df)[0]\n",
    "song_cluster"
   ]
  },
  {
   "cell_type": "markdown",
   "id": "prepared-circular",
   "metadata": {},
   "source": [
    "## 4.Check if the user's song is included in the hot songs rec"
   ]
  },
  {
   "cell_type": "code",
   "execution_count": 30,
   "id": "thrown-determination",
   "metadata": {},
   "outputs": [
    {
     "data": {
      "text/plain": [
       "'SAD (Clap Your Hands)'"
      ]
     },
     "execution_count": 30,
     "metadata": {},
     "output_type": "execute_result"
    }
   ],
   "source": [
    "song_name = song_selected.song_name[0]\n",
    "song_name"
   ]
  },
  {
   "cell_type": "code",
   "execution_count": 31,
   "id": "searching-circulation",
   "metadata": {},
   "outputs": [
    {
     "data": {
      "text/plain": [
       "'Young Rising Sons'"
      ]
     },
     "execution_count": 31,
     "metadata": {},
     "output_type": "execute_result"
    }
   ],
   "source": [
    "artist_name = song_selected.artist_name[0]\n",
    "artist_name"
   ]
  },
  {
   "cell_type": "code",
   "execution_count": 32,
   "id": "exceptional-point",
   "metadata": {},
   "outputs": [
    {
     "name": "stdout",
     "output_type": "stream",
     "text": [
      "Not included in the 100 Hot List\n"
     ]
    }
   ],
   "source": [
    "if (hot100.song_name == song_name).sum() > 0:\n",
    "    print(\"It is included on the 100 Hot List\")\n",
    "else:\n",
    "    print(\"Not included in the 100 Hot List\")"
   ]
  },
  {
   "cell_type": "markdown",
   "id": "victorian-particular",
   "metadata": {},
   "source": [
    "## 5. Recomend another song from the same cluster"
   ]
  },
  {
   "cell_type": "markdown",
   "id": "trained-cinema",
   "metadata": {},
   "source": [
    "From 100 hot"
   ]
  },
  {
   "cell_type": "code",
   "execution_count": 33,
   "id": "sunrise-disease",
   "metadata": {},
   "outputs": [
    {
     "data": {
      "text/html": [
       "<div>\n",
       "<style scoped>\n",
       "    .dataframe tbody tr th:only-of-type {\n",
       "        vertical-align: middle;\n",
       "    }\n",
       "\n",
       "    .dataframe tbody tr th {\n",
       "        vertical-align: top;\n",
       "    }\n",
       "\n",
       "    .dataframe thead th {\n",
       "        text-align: right;\n",
       "    }\n",
       "</style>\n",
       "<table border=\"1\" class=\"dataframe\">\n",
       "  <thead>\n",
       "    <tr style=\"text-align: right;\">\n",
       "      <th></th>\n",
       "      <th>song_name</th>\n",
       "      <th>album_name</th>\n",
       "      <th>artist_name</th>\n",
       "      <th>duration_ms</th>\n",
       "      <th>uri</th>\n",
       "      <th>href</th>\n",
       "      <th>danceability</th>\n",
       "      <th>energy</th>\n",
       "      <th>key</th>\n",
       "      <th>loudness</th>\n",
       "      <th>mode</th>\n",
       "      <th>speechiness</th>\n",
       "      <th>acousticness</th>\n",
       "      <th>instrumentalness</th>\n",
       "      <th>liveness</th>\n",
       "      <th>valence</th>\n",
       "      <th>tempo</th>\n",
       "      <th>type</th>\n",
       "      <th>id</th>\n",
       "      <th>uri.1</th>\n",
       "      <th>track_href</th>\n",
       "      <th>analysis_url</th>\n",
       "      <th>duration_ms.1</th>\n",
       "      <th>time_signature</th>\n",
       "      <th>cluster</th>\n",
       "    </tr>\n",
       "  </thead>\n",
       "  <tbody>\n",
       "    <tr>\n",
       "      <th>30</th>\n",
       "      <td>Doesn't Make You Right</td>\n",
       "      <td>Dirty Heads</td>\n",
       "      <td>Dirty Heads</td>\n",
       "      <td>262000</td>\n",
       "      <td>spotify:track:7y2RoHNhrToMvCOXQpkS8C</td>\n",
       "      <td>https://api.spotify.com/v1/tracks/7y2RoHNhrToM...</td>\n",
       "      <td>0.682</td>\n",
       "      <td>0.614</td>\n",
       "      <td>7</td>\n",
       "      <td>-5.938</td>\n",
       "      <td>0</td>\n",
       "      <td>0.105</td>\n",
       "      <td>0.198</td>\n",
       "      <td>0.000006</td>\n",
       "      <td>0.738</td>\n",
       "      <td>0.431</td>\n",
       "      <td>171.8</td>\n",
       "      <td>audio_features</td>\n",
       "      <td>7y2RoHNhrToMvCOXQpkS8C</td>\n",
       "      <td>spotify:track:7y2RoHNhrToMvCOXQpkS8C</td>\n",
       "      <td>https://api.spotify.com/v1/tracks/7y2RoHNhrToM...</td>\n",
       "      <td>https://api.spotify.com/v1/audio-analysis/7y2R...</td>\n",
       "      <td>262000</td>\n",
       "      <td>4</td>\n",
       "      <td>6</td>\n",
       "    </tr>\n",
       "  </tbody>\n",
       "</table>\n",
       "</div>"
      ],
      "text/plain": [
       "                 song_name   album_name  artist_name  duration_ms  \\\n",
       "30  Doesn't Make You Right  Dirty Heads  Dirty Heads       262000   \n",
       "\n",
       "                                     uri  \\\n",
       "30  spotify:track:7y2RoHNhrToMvCOXQpkS8C   \n",
       "\n",
       "                                                 href  danceability  energy  \\\n",
       "30  https://api.spotify.com/v1/tracks/7y2RoHNhrToM...         0.682   0.614   \n",
       "\n",
       "    key  loudness  mode  speechiness  acousticness  instrumentalness  \\\n",
       "30    7    -5.938     0        0.105         0.198          0.000006   \n",
       "\n",
       "    liveness  valence  tempo            type                      id  \\\n",
       "30     0.738    0.431  171.8  audio_features  7y2RoHNhrToMvCOXQpkS8C   \n",
       "\n",
       "                                   uri.1  \\\n",
       "30  spotify:track:7y2RoHNhrToMvCOXQpkS8C   \n",
       "\n",
       "                                           track_href  \\\n",
       "30  https://api.spotify.com/v1/tracks/7y2RoHNhrToM...   \n",
       "\n",
       "                                         analysis_url  duration_ms.1  \\\n",
       "30  https://api.spotify.com/v1/audio-analysis/7y2R...         262000   \n",
       "\n",
       "    time_signature  cluster  \n",
       "30               4        6  "
      ]
     },
     "metadata": {},
     "output_type": "display_data"
    }
   ],
   "source": [
    "hot100_cluster = hot100[hot100.cluster == song_cluster]\n",
    "if (hot100_cluster.shape[0] > 1):  \n",
    "    display(hot100_cluster.sample())   \n",
    "else:\n",
    "    print (\"Not more songs from this type in the 100 hot list\")"
   ]
  },
  {
   "cell_type": "markdown",
   "id": "decent-council",
   "metadata": {},
   "source": [
    "From the not hot database"
   ]
  },
  {
   "cell_type": "code",
   "execution_count": 34,
   "id": "chubby-acceptance",
   "metadata": {},
   "outputs": [
    {
     "data": {
      "text/html": [
       "<div>\n",
       "<style scoped>\n",
       "    .dataframe tbody tr th:only-of-type {\n",
       "        vertical-align: middle;\n",
       "    }\n",
       "\n",
       "    .dataframe tbody tr th {\n",
       "        vertical-align: top;\n",
       "    }\n",
       "\n",
       "    .dataframe thead th {\n",
       "        text-align: right;\n",
       "    }\n",
       "</style>\n",
       "<table border=\"1\" class=\"dataframe\">\n",
       "  <thead>\n",
       "    <tr style=\"text-align: right;\">\n",
       "      <th></th>\n",
       "      <th>song_name</th>\n",
       "      <th>album_name</th>\n",
       "      <th>artist_name</th>\n",
       "      <th>duration_ms</th>\n",
       "      <th>uri</th>\n",
       "      <th>href</th>\n",
       "      <th>danceability</th>\n",
       "      <th>energy</th>\n",
       "      <th>key</th>\n",
       "      <th>loudness</th>\n",
       "      <th>mode</th>\n",
       "      <th>speechiness</th>\n",
       "      <th>acousticness</th>\n",
       "      <th>instrumentalness</th>\n",
       "      <th>liveness</th>\n",
       "      <th>valence</th>\n",
       "      <th>tempo</th>\n",
       "      <th>type</th>\n",
       "      <th>id</th>\n",
       "      <th>uri.1</th>\n",
       "      <th>track_href</th>\n",
       "      <th>analysis_url</th>\n",
       "      <th>duration_ms.1</th>\n",
       "      <th>time_signature</th>\n",
       "      <th>0</th>\n",
       "      <th>cluster</th>\n",
       "    </tr>\n",
       "  </thead>\n",
       "  <tbody>\n",
       "    <tr>\n",
       "      <th>6330</th>\n",
       "      <td>I Am Infamy</td>\n",
       "      <td>Angel of Light</td>\n",
       "      <td>Angel Witch</td>\n",
       "      <td>333419</td>\n",
       "      <td>spotify:track:0Y8jnyKUv6fcSp2cLW9GWG</td>\n",
       "      <td>https://api.spotify.com/v1/tracks/0Y8jnyKUv6fc...</td>\n",
       "      <td>0.2</td>\n",
       "      <td>0.952</td>\n",
       "      <td>4.0</td>\n",
       "      <td>-6.157</td>\n",
       "      <td>1.0</td>\n",
       "      <td>0.0675</td>\n",
       "      <td>0.000005</td>\n",
       "      <td>0.607</td>\n",
       "      <td>0.205</td>\n",
       "      <td>0.399</td>\n",
       "      <td>75.692</td>\n",
       "      <td>audio_features</td>\n",
       "      <td>0Y8jnyKUv6fcSp2cLW9GWG</td>\n",
       "      <td>spotify:track:0Y8jnyKUv6fcSp2cLW9GWG</td>\n",
       "      <td>https://api.spotify.com/v1/tracks/0Y8jnyKUv6fc...</td>\n",
       "      <td>https://api.spotify.com/v1/audio-analysis/0Y8j...</td>\n",
       "      <td>333419.0</td>\n",
       "      <td>4.0</td>\n",
       "      <td>NaN</td>\n",
       "      <td>6.0</td>\n",
       "    </tr>\n",
       "  </tbody>\n",
       "</table>\n",
       "</div>"
      ],
      "text/plain": [
       "        song_name      album_name  artist_name  duration_ms  \\\n",
       "6330  I Am Infamy  Angel of Light  Angel Witch       333419   \n",
       "\n",
       "                                       uri  \\\n",
       "6330  spotify:track:0Y8jnyKUv6fcSp2cLW9GWG   \n",
       "\n",
       "                                                   href  danceability  energy  \\\n",
       "6330  https://api.spotify.com/v1/tracks/0Y8jnyKUv6fc...           0.2   0.952   \n",
       "\n",
       "      key  loudness  mode  speechiness  acousticness  instrumentalness  \\\n",
       "6330  4.0    -6.157   1.0       0.0675      0.000005             0.607   \n",
       "\n",
       "      liveness  valence   tempo            type                      id  \\\n",
       "6330     0.205    0.399  75.692  audio_features  0Y8jnyKUv6fcSp2cLW9GWG   \n",
       "\n",
       "                                     uri.1  \\\n",
       "6330  spotify:track:0Y8jnyKUv6fcSp2cLW9GWG   \n",
       "\n",
       "                                             track_href  \\\n",
       "6330  https://api.spotify.com/v1/tracks/0Y8jnyKUv6fc...   \n",
       "\n",
       "                                           analysis_url  duration_ms.1  \\\n",
       "6330  https://api.spotify.com/v1/audio-analysis/0Y8j...       333419.0   \n",
       "\n",
       "      time_signature   0  cluster  \n",
       "6330             4.0 NaN      6.0  "
      ]
     },
     "metadata": {},
     "output_type": "display_data"
    }
   ],
   "source": [
    "nothot_cluster = nothot[nothot.cluster == song_cluster]\n",
    "display(nothot_cluster.sample())   "
   ]
  }
 ],
 "metadata": {
  "kernelspec": {
   "display_name": "Python 3 (ipykernel)",
   "language": "python",
   "name": "python3"
  },
  "language_info": {
   "codemirror_mode": {
    "name": "ipython",
    "version": 3
   },
   "file_extension": ".py",
   "mimetype": "text/x-python",
   "name": "python",
   "nbconvert_exporter": "python",
   "pygments_lexer": "ipython3",
   "version": "3.9.5"
  }
 },
 "nbformat": 4,
 "nbformat_minor": 5
}
