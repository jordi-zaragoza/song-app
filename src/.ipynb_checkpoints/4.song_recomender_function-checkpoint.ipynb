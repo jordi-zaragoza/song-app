{
 "cells": [
  {
   "cell_type": "code",
   "execution_count": 1,
   "id": "injured-freeze",
   "metadata": {},
   "outputs": [],
   "source": [
    "import pandas as pd\n",
    "import numpy as np\n",
    "import spoty_jzar\n",
    "import cluster_jzar\n",
    "import pickle"
   ]
  },
  {
   "cell_type": "markdown",
   "id": "sufficient-voltage",
   "metadata": {},
   "source": [
    "# Song recommender"
   ]
  },
  {
   "cell_type": "markdown",
   "id": "norwegian-birmingham",
   "metadata": {},
   "source": [
    "Tried the recommender with 2 models\n",
    "- K-means\n",
    "- DBScan"
   ]
  },
  {
   "cell_type": "markdown",
   "id": "mexican-portrait",
   "metadata": {},
   "source": [
    "## 1. For the K-Means"
   ]
  },
  {
   "cell_type": "markdown",
   "id": "flush-istanbul",
   "metadata": {},
   "source": [
    "### Declarations"
   ]
  },
  {
   "cell_type": "code",
   "execution_count": 14,
   "id": "false-addition",
   "metadata": {},
   "outputs": [
    {
     "name": "stdout",
     "output_type": "stream",
     "text": [
      "Initialize sp\n"
     ]
    }
   ],
   "source": [
    "hot100 = pd.read_csv('../data/100hot_clusters.csv', index_col=0)\n",
    "nothot = pd.read_csv('../data/nothot_clusters.csv', index_col=0)\n",
    "sp_jzar = spoty_jzar.Spoty_jzar()\n",
    "\n",
    "#Retrieve the transformer\n",
    "filename = \"../transformer/scaler.pickle\" # Path with filename\n",
    "scaler = cluster_jzar.load_pickle(filename)\n",
    "\n",
    "# Retrieve the model \n",
    "k = 8\n",
    "filename = \"../model/kmeans_\" + str(k) + \".pickle\" # Path with filename\n",
    "kmeans = cluster_jzar.load_pickle(filename)\n",
    "\n"
   ]
  },
  {
   "cell_type": "markdown",
   "id": "dutch-shooting",
   "metadata": {},
   "source": [
    "### Function"
   ]
  },
  {
   "cell_type": "code",
   "execution_count": null,
   "id": "grateful-shield",
   "metadata": {
    "scrolled": false
   },
   "outputs": [
    {
     "name": "stdout",
     "output_type": "stream",
     "text": [
      "\n",
      "Enter the name of the song:\n",
      "\n",
      "billie jean\n",
      "\n"
     ]
    },
    {
     "data": {
      "text/html": [
       "<div>\n",
       "<style scoped>\n",
       "    .dataframe tbody tr th:only-of-type {\n",
       "        vertical-align: middle;\n",
       "    }\n",
       "\n",
       "    .dataframe tbody tr th {\n",
       "        vertical-align: top;\n",
       "    }\n",
       "\n",
       "    .dataframe thead th {\n",
       "        text-align: right;\n",
       "    }\n",
       "</style>\n",
       "<table border=\"1\" class=\"dataframe\">\n",
       "  <thead>\n",
       "    <tr style=\"text-align: right;\">\n",
       "      <th></th>\n",
       "      <th>song_name</th>\n",
       "      <th>album_name</th>\n",
       "      <th>artist_name</th>\n",
       "    </tr>\n",
       "  </thead>\n",
       "  <tbody>\n",
       "    <tr>\n",
       "      <th>0</th>\n",
       "      <td>Billie Jean</td>\n",
       "      <td>Thriller 25 Super Deluxe Edition</td>\n",
       "      <td>Michael Jackson</td>\n",
       "    </tr>\n",
       "    <tr>\n",
       "      <th>1</th>\n",
       "      <td>Billie Jean</td>\n",
       "      <td>Thriller</td>\n",
       "      <td>Michael Jackson</td>\n",
       "    </tr>\n",
       "    <tr>\n",
       "      <th>2</th>\n",
       "      <td>Billie Jean</td>\n",
       "      <td>Blue T-Shirt Leaks</td>\n",
       "      <td>G Perico</td>\n",
       "    </tr>\n",
       "    <tr>\n",
       "      <th>3</th>\n",
       "      <td>Billie Jean</td>\n",
       "      <td>Between the Bars</td>\n",
       "      <td>The Civil Wars</td>\n",
       "    </tr>\n",
       "    <tr>\n",
       "      <th>4</th>\n",
       "      <td>Billie Jean</td>\n",
       "      <td>Hoodie SZN</td>\n",
       "      <td>A Boogie Wit da Hoodie</td>\n",
       "    </tr>\n",
       "  </tbody>\n",
       "</table>\n",
       "</div>"
      ],
      "text/plain": [
       "     song_name                        album_name             artist_name\n",
       "0  Billie Jean  Thriller 25 Super Deluxe Edition         Michael Jackson\n",
       "1  Billie Jean                          Thriller         Michael Jackson\n",
       "2  Billie Jean                Blue T-Shirt Leaks                G Perico\n",
       "3  Billie Jean                  Between the Bars          The Civil Wars\n",
       "4  Billie Jean                        Hoodie SZN  A Boogie Wit da Hoodie"
      ]
     },
     "metadata": {},
     "output_type": "display_data"
    },
    {
     "name": "stdout",
     "output_type": "stream",
     "text": [
      "\n",
      "Can you choose the song you are searching using the index num?1\n",
      "\n",
      "You choose number  1\n"
     ]
    },
    {
     "data": {
      "text/html": [
       "<div>\n",
       "<style scoped>\n",
       "    .dataframe tbody tr th:only-of-type {\n",
       "        vertical-align: middle;\n",
       "    }\n",
       "\n",
       "    .dataframe tbody tr th {\n",
       "        vertical-align: top;\n",
       "    }\n",
       "\n",
       "    .dataframe thead th {\n",
       "        text-align: right;\n",
       "    }\n",
       "</style>\n",
       "<table border=\"1\" class=\"dataframe\">\n",
       "  <thead>\n",
       "    <tr style=\"text-align: right;\">\n",
       "      <th></th>\n",
       "      <th>song_name</th>\n",
       "      <th>album_name</th>\n",
       "      <th>artist_name</th>\n",
       "      <th>duration_ms</th>\n",
       "      <th>uri</th>\n",
       "      <th>href</th>\n",
       "    </tr>\n",
       "  </thead>\n",
       "  <tbody>\n",
       "    <tr>\n",
       "      <th>1</th>\n",
       "      <td>Billie Jean</td>\n",
       "      <td>Thriller</td>\n",
       "      <td>Michael Jackson</td>\n",
       "      <td>294226</td>\n",
       "      <td>spotify:track:7J1uxwnxfQLu4APicE5Rnj</td>\n",
       "      <td>https://api.spotify.com/v1/tracks/7J1uxwnxfQLu...</td>\n",
       "    </tr>\n",
       "  </tbody>\n",
       "</table>\n",
       "</div>"
      ],
      "text/plain": [
       "     song_name album_name      artist_name  duration_ms  \\\n",
       "1  Billie Jean   Thriller  Michael Jackson       294226   \n",
       "\n",
       "                                    uri  \\\n",
       "1  spotify:track:7J1uxwnxfQLu4APicE5Rnj   \n",
       "\n",
       "                                                href  \n",
       "1  https://api.spotify.com/v1/tracks/7J1uxwnxfQLu...  "
      ]
     },
     "metadata": {},
     "output_type": "display_data"
    },
    {
     "name": "stdout",
     "output_type": "stream",
     "text": [
      "\n",
      "\n",
      "--------------------------------------------------------------------------------------------------\n",
      "------------------------------------ YOUR RECOMMENDATION -----------------------------------------\n",
      "--------------------------------------------------------------------------------------------------\n",
      "\n",
      "\n"
     ]
    },
    {
     "data": {
      "text/html": [
       "<div>\n",
       "<style scoped>\n",
       "    .dataframe tbody tr th:only-of-type {\n",
       "        vertical-align: middle;\n",
       "    }\n",
       "\n",
       "    .dataframe tbody tr th {\n",
       "        vertical-align: top;\n",
       "    }\n",
       "\n",
       "    .dataframe thead th {\n",
       "        text-align: right;\n",
       "    }\n",
       "</style>\n",
       "<table border=\"1\" class=\"dataframe\">\n",
       "  <thead>\n",
       "    <tr style=\"text-align: right;\">\n",
       "      <th></th>\n",
       "      <th>Unnamed: 0</th>\n",
       "      <th>song_name</th>\n",
       "      <th>album_name</th>\n",
       "      <th>artist_name</th>\n",
       "      <th>duration_ms</th>\n",
       "      <th>uri</th>\n",
       "      <th>href</th>\n",
       "      <th>danceability</th>\n",
       "      <th>energy</th>\n",
       "      <th>key</th>\n",
       "      <th>...</th>\n",
       "      <th>valence</th>\n",
       "      <th>tempo</th>\n",
       "      <th>type</th>\n",
       "      <th>id</th>\n",
       "      <th>uri.1</th>\n",
       "      <th>track_href</th>\n",
       "      <th>analysis_url</th>\n",
       "      <th>duration_ms.1</th>\n",
       "      <th>time_signature</th>\n",
       "      <th>cluster</th>\n",
       "    </tr>\n",
       "  </thead>\n",
       "  <tbody>\n",
       "    <tr>\n",
       "      <th>537</th>\n",
       "      <td>537</td>\n",
       "      <td>No Surface All Feeling - Acoustic Demo</td>\n",
       "      <td>Everything Must Go 10th Anniversary Edition</td>\n",
       "      <td>Manic Street Preachers</td>\n",
       "      <td>240253</td>\n",
       "      <td>spotify:track:6cHb1ulIhoHIN5zVxYDVLC</td>\n",
       "      <td>https://api.spotify.com/v1/tracks/6cHb1ulIhoHI...</td>\n",
       "      <td>0.493</td>\n",
       "      <td>0.543</td>\n",
       "      <td>4.0</td>\n",
       "      <td>...</td>\n",
       "      <td>0.392</td>\n",
       "      <td>135.154</td>\n",
       "      <td>audio_features</td>\n",
       "      <td>6cHb1ulIhoHIN5zVxYDVLC</td>\n",
       "      <td>spotify:track:6cHb1ulIhoHIN5zVxYDVLC</td>\n",
       "      <td>https://api.spotify.com/v1/tracks/6cHb1ulIhoHI...</td>\n",
       "      <td>https://api.spotify.com/v1/audio-analysis/6cHb...</td>\n",
       "      <td>240253.0</td>\n",
       "      <td>4.0</td>\n",
       "      <td>1</td>\n",
       "    </tr>\n",
       "  </tbody>\n",
       "</table>\n",
       "<p>1 rows × 26 columns</p>\n",
       "</div>"
      ],
      "text/plain": [
       "     Unnamed: 0                               song_name  \\\n",
       "537         537  No Surface All Feeling - Acoustic Demo   \n",
       "\n",
       "                                      album_name             artist_name  \\\n",
       "537  Everything Must Go 10th Anniversary Edition  Manic Street Preachers   \n",
       "\n",
       "     duration_ms                                   uri  \\\n",
       "537       240253  spotify:track:6cHb1ulIhoHIN5zVxYDVLC   \n",
       "\n",
       "                                                  href  danceability  energy  \\\n",
       "537  https://api.spotify.com/v1/tracks/6cHb1ulIhoHI...         0.493   0.543   \n",
       "\n",
       "     key  ...  valence    tempo            type                      id  \\\n",
       "537  4.0  ...    0.392  135.154  audio_features  6cHb1ulIhoHIN5zVxYDVLC   \n",
       "\n",
       "                                    uri.1  \\\n",
       "537  spotify:track:6cHb1ulIhoHIN5zVxYDVLC   \n",
       "\n",
       "                                            track_href  \\\n",
       "537  https://api.spotify.com/v1/tracks/6cHb1ulIhoHI...   \n",
       "\n",
       "                                          analysis_url  duration_ms.1  \\\n",
       "537  https://api.spotify.com/v1/audio-analysis/6cHb...       240253.0   \n",
       "\n",
       "    time_signature cluster  \n",
       "537            4.0       1  \n",
       "\n",
       "[1 rows x 26 columns]"
      ]
     },
     "metadata": {},
     "output_type": "display_data"
    },
    {
     "name": "stdout",
     "output_type": "stream",
     "text": [
      "\n",
      "\n",
      "Are you ok with this option? (y) to confirm \n",
      "\n",
      "y\n"
     ]
    }
   ],
   "source": [
    "sp_jzar.song_recommender(hot100, nothot,scaler, kmeans)"
   ]
  },
  {
   "cell_type": "markdown",
   "id": "identified-offense",
   "metadata": {},
   "source": [
    "## 2. For the DB scan"
   ]
  },
  {
   "cell_type": "markdown",
   "id": "assured-round",
   "metadata": {},
   "source": [
    "### Declarations"
   ]
  },
  {
   "cell_type": "code",
   "execution_count": 8,
   "id": "available-timer",
   "metadata": {},
   "outputs": [
    {
     "name": "stdout",
     "output_type": "stream",
     "text": [
      "Initialize sp\n"
     ]
    }
   ],
   "source": [
    "hot100_dbscan = pd.read_csv('../data/100hot_clusters_dbscan.csv', index_col=0)\n",
    "nothot_dbscan = pd.read_csv('../data/nothot_clusters_dbscan.csv', index_col=0)\n",
    "sp_jzar = spoty_jzar.Spoty_jzar()\n",
    "\n",
    "#Retrieve the transformer\n",
    "filename = \"../transformer/scaler.pickle\" # Path with filename\n",
    "scaler = cluster_jzar.load_pickle(filename)\n",
    "\n",
    "# Retrieve the model \n",
    "filename = \"../model/dbscan.pickle\" # Path with filename\n",
    "dbscan = cluster_jzar.load_pickle(filename)"
   ]
  },
  {
   "cell_type": "markdown",
   "id": "pressing-dependence",
   "metadata": {},
   "source": [
    "### Function"
   ]
  },
  {
   "cell_type": "code",
   "execution_count": 9,
   "id": "hired-disorder",
   "metadata": {
    "scrolled": false
   },
   "outputs": [
    {
     "name": "stdout",
     "output_type": "stream",
     "text": [
      "\n",
      "Enter the name of the song:\n",
      "\n",
      "Heat Waves\n",
      "\n"
     ]
    },
    {
     "data": {
      "text/html": [
       "<div>\n",
       "<style scoped>\n",
       "    .dataframe tbody tr th:only-of-type {\n",
       "        vertical-align: middle;\n",
       "    }\n",
       "\n",
       "    .dataframe tbody tr th {\n",
       "        vertical-align: top;\n",
       "    }\n",
       "\n",
       "    .dataframe thead th {\n",
       "        text-align: right;\n",
       "    }\n",
       "</style>\n",
       "<table border=\"1\" class=\"dataframe\">\n",
       "  <thead>\n",
       "    <tr style=\"text-align: right;\">\n",
       "      <th></th>\n",
       "      <th>song_name</th>\n",
       "      <th>album_name</th>\n",
       "      <th>artist_name</th>\n",
       "    </tr>\n",
       "  </thead>\n",
       "  <tbody>\n",
       "    <tr>\n",
       "      <th>0</th>\n",
       "      <td>Heat Waves</td>\n",
       "      <td>Dreamland</td>\n",
       "      <td>Glass Animals</td>\n",
       "    </tr>\n",
       "    <tr>\n",
       "      <th>1</th>\n",
       "      <td>Heat Waves</td>\n",
       "      <td>Dreamland (+ Bonus Levels)</td>\n",
       "      <td>Glass Animals</td>\n",
       "    </tr>\n",
       "    <tr>\n",
       "      <th>2</th>\n",
       "      <td>Heat Waves</td>\n",
       "      <td>Heat Waves</td>\n",
       "      <td>Glass Animals</td>\n",
       "    </tr>\n",
       "    <tr>\n",
       "      <th>3</th>\n",
       "      <td>Heat Waves (with iann dior)</td>\n",
       "      <td>Dreamland (+ Bonus Levels)</td>\n",
       "      <td>Glass Animals</td>\n",
       "    </tr>\n",
       "    <tr>\n",
       "      <th>4</th>\n",
       "      <td>Heat Waves - Slowed</td>\n",
       "      <td>slowed + reverbed viral songs</td>\n",
       "      <td>Glass Animals</td>\n",
       "    </tr>\n",
       "  </tbody>\n",
       "</table>\n",
       "</div>"
      ],
      "text/plain": [
       "                     song_name                     album_name    artist_name\n",
       "0                   Heat Waves                      Dreamland  Glass Animals\n",
       "1                   Heat Waves     Dreamland (+ Bonus Levels)  Glass Animals\n",
       "2                   Heat Waves                     Heat Waves  Glass Animals\n",
       "3  Heat Waves (with iann dior)     Dreamland (+ Bonus Levels)  Glass Animals\n",
       "4          Heat Waves - Slowed  slowed + reverbed viral songs  Glass Animals"
      ]
     },
     "metadata": {},
     "output_type": "display_data"
    },
    {
     "name": "stdout",
     "output_type": "stream",
     "text": [
      "\n",
      "Can you choose the song you are searching using the index num?0\n",
      "\n",
      "You choose number  0\n"
     ]
    },
    {
     "data": {
      "text/html": [
       "<div>\n",
       "<style scoped>\n",
       "    .dataframe tbody tr th:only-of-type {\n",
       "        vertical-align: middle;\n",
       "    }\n",
       "\n",
       "    .dataframe tbody tr th {\n",
       "        vertical-align: top;\n",
       "    }\n",
       "\n",
       "    .dataframe thead th {\n",
       "        text-align: right;\n",
       "    }\n",
       "</style>\n",
       "<table border=\"1\" class=\"dataframe\">\n",
       "  <thead>\n",
       "    <tr style=\"text-align: right;\">\n",
       "      <th></th>\n",
       "      <th>song_name</th>\n",
       "      <th>album_name</th>\n",
       "      <th>artist_name</th>\n",
       "      <th>duration_ms</th>\n",
       "      <th>uri</th>\n",
       "      <th>href</th>\n",
       "    </tr>\n",
       "  </thead>\n",
       "  <tbody>\n",
       "    <tr>\n",
       "      <th>0</th>\n",
       "      <td>Heat Waves</td>\n",
       "      <td>Dreamland</td>\n",
       "      <td>Glass Animals</td>\n",
       "      <td>238805</td>\n",
       "      <td>spotify:track:3USxtqRwSYz57Ewm6wWRMp</td>\n",
       "      <td>https://api.spotify.com/v1/tracks/3USxtqRwSYz5...</td>\n",
       "    </tr>\n",
       "  </tbody>\n",
       "</table>\n",
       "</div>"
      ],
      "text/plain": [
       "    song_name album_name    artist_name  duration_ms  \\\n",
       "0  Heat Waves  Dreamland  Glass Animals       238805   \n",
       "\n",
       "                                    uri  \\\n",
       "0  spotify:track:3USxtqRwSYz57Ewm6wWRMp   \n",
       "\n",
       "                                                href  \n",
       "0  https://api.spotify.com/v1/tracks/3USxtqRwSYz5...  "
      ]
     },
     "metadata": {},
     "output_type": "display_data"
    },
    {
     "name": "stdout",
     "output_type": "stream",
     "text": [
      "\n",
      "\n",
      "--------------------------------------------------------------------------------------------------\n",
      "------------------------------------ YOUR RECOMMENDATION -----------------------------------------\n",
      "--------------------------------------------------------------------------------------------------\n",
      "\n",
      "\n",
      "\n",
      "#### Its hot!              \n"
     ]
    },
    {
     "data": {
      "text/html": [
       "<div>\n",
       "<style scoped>\n",
       "    .dataframe tbody tr th:only-of-type {\n",
       "        vertical-align: middle;\n",
       "    }\n",
       "\n",
       "    .dataframe tbody tr th {\n",
       "        vertical-align: top;\n",
       "    }\n",
       "\n",
       "    .dataframe thead th {\n",
       "        text-align: right;\n",
       "    }\n",
       "</style>\n",
       "<table border=\"1\" class=\"dataframe\">\n",
       "  <thead>\n",
       "    <tr style=\"text-align: right;\">\n",
       "      <th></th>\n",
       "      <th>song_name</th>\n",
       "      <th>album_name</th>\n",
       "      <th>artist_name</th>\n",
       "      <th>duration_ms</th>\n",
       "      <th>uri</th>\n",
       "      <th>href</th>\n",
       "      <th>danceability</th>\n",
       "      <th>energy</th>\n",
       "      <th>key</th>\n",
       "      <th>loudness</th>\n",
       "      <th>...</th>\n",
       "      <th>valence</th>\n",
       "      <th>tempo</th>\n",
       "      <th>type</th>\n",
       "      <th>id</th>\n",
       "      <th>uri.1</th>\n",
       "      <th>track_href</th>\n",
       "      <th>analysis_url</th>\n",
       "      <th>duration_ms.1</th>\n",
       "      <th>time_signature</th>\n",
       "      <th>cluster</th>\n",
       "    </tr>\n",
       "  </thead>\n",
       "  <tbody>\n",
       "    <tr>\n",
       "      <th>78</th>\n",
       "      <td>Sacrifice</td>\n",
       "      <td>The Debut</td>\n",
       "      <td>Elite One Percent</td>\n",
       "      <td>175568</td>\n",
       "      <td>spotify:track:5YaJt7YvWYytlBQio2JZrC</td>\n",
       "      <td>https://api.spotify.com/v1/tracks/5YaJt7YvWYyt...</td>\n",
       "      <td>0.69</td>\n",
       "      <td>0.372</td>\n",
       "      <td>4</td>\n",
       "      <td>-12.148</td>\n",
       "      <td>...</td>\n",
       "      <td>0.231</td>\n",
       "      <td>175.069</td>\n",
       "      <td>audio_features</td>\n",
       "      <td>5YaJt7YvWYytlBQio2JZrC</td>\n",
       "      <td>spotify:track:5YaJt7YvWYytlBQio2JZrC</td>\n",
       "      <td>https://api.spotify.com/v1/tracks/5YaJt7YvWYyt...</td>\n",
       "      <td>https://api.spotify.com/v1/audio-analysis/5YaJ...</td>\n",
       "      <td>175569</td>\n",
       "      <td>3</td>\n",
       "      <td>-1</td>\n",
       "    </tr>\n",
       "  </tbody>\n",
       "</table>\n",
       "<p>1 rows × 25 columns</p>\n",
       "</div>"
      ],
      "text/plain": [
       "    song_name album_name        artist_name  duration_ms  \\\n",
       "78  Sacrifice  The Debut  Elite One Percent       175568   \n",
       "\n",
       "                                     uri  \\\n",
       "78  spotify:track:5YaJt7YvWYytlBQio2JZrC   \n",
       "\n",
       "                                                 href  danceability  energy  \\\n",
       "78  https://api.spotify.com/v1/tracks/5YaJt7YvWYyt...          0.69   0.372   \n",
       "\n",
       "    key  loudness  ...  valence    tempo            type  \\\n",
       "78    4   -12.148  ...    0.231  175.069  audio_features   \n",
       "\n",
       "                        id                                 uri.1  \\\n",
       "78  5YaJt7YvWYytlBQio2JZrC  spotify:track:5YaJt7YvWYytlBQio2JZrC   \n",
       "\n",
       "                                           track_href  \\\n",
       "78  https://api.spotify.com/v1/tracks/5YaJt7YvWYyt...   \n",
       "\n",
       "                                         analysis_url duration_ms.1  \\\n",
       "78  https://api.spotify.com/v1/audio-analysis/5YaJ...        175569   \n",
       "\n",
       "   time_signature cluster  \n",
       "78              3      -1  \n",
       "\n",
       "[1 rows x 25 columns]"
      ]
     },
     "metadata": {},
     "output_type": "display_data"
    },
    {
     "name": "stdout",
     "output_type": "stream",
     "text": [
      "\n",
      "\n",
      "Are you ok with this option? (y) to confirm \n",
      "\n",
      "y\n"
     ]
    }
   ],
   "source": [
    "sp_jzar.song_recommender(hot100_dbscan, nothot_dbscan, scaler, dbscan)"
   ]
  }
 ],
 "metadata": {
  "kernelspec": {
   "display_name": "Python 3 (ipykernel)",
   "language": "python",
   "name": "python3"
  },
  "language_info": {
   "codemirror_mode": {
    "name": "ipython",
    "version": 3
   },
   "file_extension": ".py",
   "mimetype": "text/x-python",
   "name": "python",
   "nbconvert_exporter": "python",
   "pygments_lexer": "ipython3",
   "version": "3.9.5"
  }
 },
 "nbformat": 4,
 "nbformat_minor": 5
}
